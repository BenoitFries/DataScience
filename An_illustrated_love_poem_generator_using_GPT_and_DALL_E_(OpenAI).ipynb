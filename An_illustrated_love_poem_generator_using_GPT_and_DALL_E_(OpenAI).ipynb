{
  "nbformat": 4,
  "nbformat_minor": 0,
  "metadata": {
    "colab": {
      "provenance": [],
      "authorship_tag": "ABX9TyN6nq68Dn9ihJ6B6SpaHsPW"
    },
    "kernelspec": {
      "name": "python3",
      "display_name": "Python 3"
    },
    "language_info": {
      "name": "python"
    }
  },
  "cells": [
    {
      "cell_type": "markdown",
      "source": [
        "#An illustrated love poem generator using GPT and DALL-E (OpenAI)\n",
        "\n"
      ],
      "metadata": {
        "id": "-_X5K9N8oYgA"
      }
    },
    {
      "cell_type": "markdown",
      "source": [
        "## Upgrading tools and installing OpenAI"
      ],
      "metadata": {
        "id": "PuQmZLsckBn7"
      }
    },
    {
      "cell_type": "code",
      "execution_count": 4,
      "metadata": {
        "id": "HGDEYKe7_gYd",
        "colab": {
          "base_uri": "https://localhost:8080/"
        },
        "outputId": "dd4ece5b-baf4-469a-b91a-a0bd5c35a35f"
      },
      "outputs": [
        {
          "output_type": "stream",
          "name": "stdout",
          "text": [
            "Looking in indexes: https://pypi.org/simple, https://us-python.pkg.dev/colab-wheels/public/simple/\n",
            "Requirement already satisfied: pip in /usr/local/lib/python3.9/dist-packages (22.0.4)\n",
            "Collecting pip\n",
            "  Downloading pip-23.0.1-py3-none-any.whl (2.1 MB)\n",
            "\u001b[2K     \u001b[90m━━━━━━━━━━━━━━━━━━━━━━━━━━━━━━━━━━━━━━━━\u001b[0m \u001b[32m2.1/2.1 MB\u001b[0m \u001b[31m26.1 MB/s\u001b[0m eta \u001b[36m0:00:00\u001b[0m\n",
            "\u001b[?25hInstalling collected packages: pip\n",
            "  Attempting uninstall: pip\n",
            "    Found existing installation: pip 22.0.4\n",
            "    Uninstalling pip-22.0.4:\n",
            "      Successfully uninstalled pip-22.0.4\n",
            "Successfully installed pip-23.0.1\n",
            "Looking in indexes: https://pypi.org/simple, https://us-python.pkg.dev/colab-wheels/public/simple/\n",
            "Requirement already satisfied: setuptools in /usr/local/lib/python3.9/dist-packages (57.4.0)\n",
            "Requirement already satisfied: wheel in /usr/local/lib/python3.9/dist-packages (0.38.4)\n",
            "\u001b[33mWARNING: Running pip as the 'root' user can result in broken permissions and conflicting behaviour with the system package manager. It is recommended to use a virtual environment instead: https://pip.pypa.io/warnings/venv\u001b[0m\u001b[33m\n",
            "\u001b[0mLooking in indexes: https://pypi.org/simple, https://us-python.pkg.dev/colab-wheels/public/simple/\n",
            "Collecting openai\n",
            "  Downloading openai-0.27.1.tar.gz (57 kB)\n",
            "\u001b[2K     \u001b[90m━━━━━━━━━━━━━━━━━━━━━━━━━━━━━━━━━━━━━━━━\u001b[0m \u001b[32m57.3/57.3 kB\u001b[0m \u001b[31m2.9 MB/s\u001b[0m eta \u001b[36m0:00:00\u001b[0m\n",
            "\u001b[?25h  Installing build dependencies ... \u001b[?25l\u001b[?25hdone\n",
            "  Getting requirements to build wheel ... \u001b[?25l\u001b[?25hdone\n",
            "  Installing backend dependencies ... \u001b[?25l\u001b[?25hdone\n",
            "  Preparing metadata (pyproject.toml) ... \u001b[?25l\u001b[?25hdone\n",
            "Requirement already satisfied: tqdm in /usr/local/lib/python3.9/dist-packages (from openai) (4.65.0)\n",
            "Requirement already satisfied: requests>=2.20 in /usr/local/lib/python3.9/dist-packages (from openai) (2.25.1)\n",
            "Collecting aiohttp\n",
            "  Downloading aiohttp-3.8.4-cp39-cp39-manylinux_2_17_x86_64.manylinux2014_x86_64.whl (1.0 MB)\n",
            "\u001b[2K     \u001b[90m━━━━━━━━━━━━━━━━━━━━━━━━━━━━━━━━━━━━━━━━\u001b[0m \u001b[32m1.0/1.0 MB\u001b[0m \u001b[31m21.5 MB/s\u001b[0m eta \u001b[36m0:00:00\u001b[0m\n",
            "\u001b[?25hRequirement already satisfied: urllib3<1.27,>=1.21.1 in /usr/local/lib/python3.9/dist-packages (from requests>=2.20->openai) (1.26.14)\n",
            "Requirement already satisfied: certifi>=2017.4.17 in /usr/local/lib/python3.9/dist-packages (from requests>=2.20->openai) (2022.12.7)\n",
            "Requirement already satisfied: chardet<5,>=3.0.2 in /usr/local/lib/python3.9/dist-packages (from requests>=2.20->openai) (4.0.0)\n",
            "Requirement already satisfied: idna<3,>=2.5 in /usr/local/lib/python3.9/dist-packages (from requests>=2.20->openai) (2.10)\n",
            "Collecting frozenlist>=1.1.1\n",
            "  Downloading frozenlist-1.3.3-cp39-cp39-manylinux_2_5_x86_64.manylinux1_x86_64.manylinux_2_17_x86_64.manylinux2014_x86_64.whl (158 kB)\n",
            "\u001b[2K     \u001b[90m━━━━━━━━━━━━━━━━━━━━━━━━━━━━━━━━━━━━━━\u001b[0m \u001b[32m158.8/158.8 kB\u001b[0m \u001b[31m16.7 MB/s\u001b[0m eta \u001b[36m0:00:00\u001b[0m\n",
            "\u001b[?25hCollecting yarl<2.0,>=1.0\n",
            "  Downloading yarl-1.8.2-cp39-cp39-manylinux_2_17_x86_64.manylinux2014_x86_64.whl (264 kB)\n",
            "\u001b[2K     \u001b[90m━━━━━━━━━━━━━━━━━━━━━━━━━━━━━━━━━━━━━━\u001b[0m \u001b[32m264.6/264.6 kB\u001b[0m \u001b[31m28.5 MB/s\u001b[0m eta \u001b[36m0:00:00\u001b[0m\n",
            "\u001b[?25hCollecting charset-normalizer<4.0,>=2.0\n",
            "  Downloading charset_normalizer-3.1.0-cp39-cp39-manylinux_2_17_x86_64.manylinux2014_x86_64.whl (199 kB)\n",
            "\u001b[2K     \u001b[90m━━━━━━━━━━━━━━━━━━━━━━━━━━━━━━━━━━━━━━\u001b[0m \u001b[32m199.2/199.2 kB\u001b[0m \u001b[31m23.7 MB/s\u001b[0m eta \u001b[36m0:00:00\u001b[0m\n",
            "\u001b[?25hCollecting async-timeout<5.0,>=4.0.0a3\n",
            "  Downloading async_timeout-4.0.2-py3-none-any.whl (5.8 kB)\n",
            "Collecting multidict<7.0,>=4.5\n",
            "  Downloading multidict-6.0.4-cp39-cp39-manylinux_2_17_x86_64.manylinux2014_x86_64.whl (114 kB)\n",
            "\u001b[2K     \u001b[90m━━━━━━━━━━━━━━━━━━━━━━━━━━━━━━━━━━━━━━\u001b[0m \u001b[32m114.2/114.2 kB\u001b[0m \u001b[31m15.2 MB/s\u001b[0m eta \u001b[36m0:00:00\u001b[0m\n",
            "\u001b[?25hRequirement already satisfied: attrs>=17.3.0 in /usr/local/lib/python3.9/dist-packages (from aiohttp->openai) (22.2.0)\n",
            "Collecting aiosignal>=1.1.2\n",
            "  Downloading aiosignal-1.3.1-py3-none-any.whl (7.6 kB)\n",
            "Building wheels for collected packages: openai\n",
            "  Building wheel for openai (pyproject.toml) ... \u001b[?25l\u001b[?25hdone\n",
            "  Created wheel for openai: filename=openai-0.27.1-py3-none-any.whl size=70091 sha256=3314ead71ab108cb289e76525edcc509931d2916d3fed6faa8a26016e52207bc\n",
            "  Stored in directory: /root/.cache/pip/wheels/1f/d1/75/8015df8f7ec8ba5422d8a45786cbb64d421872f488c09303fe\n",
            "Successfully built openai\n",
            "Installing collected packages: multidict, frozenlist, charset-normalizer, async-timeout, yarl, aiosignal, aiohttp, openai\n",
            "Successfully installed aiohttp-3.8.4 aiosignal-1.3.1 async-timeout-4.0.2 charset-normalizer-3.1.0 frozenlist-1.3.3 multidict-6.0.4 openai-0.27.1 yarl-1.8.2\n",
            "\u001b[33mWARNING: Running pip as the 'root' user can result in broken permissions and conflicting behaviour with the system package manager. It is recommended to use a virtual environment instead: https://pip.pypa.io/warnings/venv\u001b[0m\u001b[33m\n",
            "\u001b[0m"
          ]
        }
      ],
      "source": [
        "!pip install --upgrade pip\n",
        "!pip install setuptools wheel\n",
        "!pip install openai\n",
        "\n"
      ]
    },
    {
      "cell_type": "code",
      "source": [
        "import openai \n",
        "import os\n",
        "import requests\n",
        "import shutil\n",
        "\n",
        "from PIL import Image, ImageFont, ImageDraw "
      ],
      "metadata": {
        "id": "FGjzrAs9b9fK"
      },
      "execution_count": 51,
      "outputs": []
    },
    {
      "cell_type": "markdown",
      "source": [
        "### The API key should stay private"
      ],
      "metadata": {
        "id": "CRwQClEqkJKH"
      }
    },
    {
      "cell_type": "code",
      "source": [
        "#os.environ[\"OPENAI_API_KEY\"] = 'PUT_API_KEY_HERE'"
      ],
      "metadata": {
        "id": "g-B5ovkkesNN"
      },
      "execution_count": 52,
      "outputs": []
    },
    {
      "cell_type": "code",
      "source": [
        "openai.api_key = os.getenv('OPENAI_API_KEY')"
      ],
      "metadata": {
        "id": "B7DYSz35fgIV"
      },
      "execution_count": 7,
      "outputs": []
    },
    {
      "cell_type": "markdown",
      "source": [
        "# Making a GPT query"
      ],
      "metadata": {
        "id": "SGffnKuuktzY"
      }
    },
    {
      "cell_type": "code",
      "source": [
        "response = openai.Completion.create(\n",
        "    model='text-davinci-003',\n",
        "    prompt='Give me two reasons to learn OpenAI API with Python', \n",
        "    max_tokens=300)"
      ],
      "metadata": {
        "id": "wm57r00ZftRv"
      },
      "execution_count": 8,
      "outputs": []
    },
    {
      "cell_type": "code",
      "source": [
        "print(response['choices'][0]['text'])"
      ],
      "metadata": {
        "colab": {
          "base_uri": "https://localhost:8080/"
        },
        "id": "dc65JFmkhBOw",
        "outputId": "4cbd86c6-ce2d-4562-a36f-001c51df5caa"
      },
      "execution_count": 9,
      "outputs": [
        {
          "output_type": "stream",
          "name": "stdout",
          "text": [
            "\n",
            "\n",
            "1) OpenAI API with Python is a powerful tool for developing and deploying AI applications. This programming language provides a set of robust, easy-to-use tools and libraries that can be used to quickly create and deploy AI projects.\n",
            "\n",
            "2) OpenAI API with Python is becoming increasingly popular as a tool for machine learning, natural language processing, computer vision, and reinforcement learning. Its flexible, Python-based libraries, APIs, and tools make it suitable for a wide range of AI-related tasks, such as object recognition, text analysis, decision-making, and robotics.\n"
          ]
        }
      ]
    },
    {
      "cell_type": "markdown",
      "source": [
        "### OpenAI rejects unethical queries, and an account can be paused if too many queries are flagged. To avoid that we can test if a query is acceptable:"
      ],
      "metadata": {
        "id": "oxe9fLr2kOev"
      }
    },
    {
      "cell_type": "code",
      "source": [
        "response = openai.Moderation.create(input=\"is this an acceptable query ?\")\n",
        "response[\"results\"][0]"
      ],
      "metadata": {
        "colab": {
          "base_uri": "https://localhost:8080/"
        },
        "id": "8cIRvh76hpPc",
        "outputId": "70d0c0f2-23aa-4eed-b212-798bd664b4d1"
      },
      "execution_count": 10,
      "outputs": [
        {
          "output_type": "execute_result",
          "data": {
            "text/plain": [
              "<OpenAIObject at 0x7f1750242d10> JSON: {\n",
              "  \"categories\": {\n",
              "    \"hate\": false,\n",
              "    \"hate/threatening\": false,\n",
              "    \"self-harm\": false,\n",
              "    \"sexual\": false,\n",
              "    \"sexual/minors\": false,\n",
              "    \"violence\": false,\n",
              "    \"violence/graphic\": false\n",
              "  },\n",
              "  \"category_scores\": {\n",
              "    \"hate\": 6.822017439844785e-06,\n",
              "    \"hate/threatening\": 1.954006574600431e-11,\n",
              "    \"self-harm\": 5.504936506639524e-10,\n",
              "    \"sexual\": 4.826387521461584e-05,\n",
              "    \"sexual/minors\": 4.548151537164813e-06,\n",
              "    \"violence\": 1.1513262343498809e-08,\n",
              "    \"violence/graphic\": 4.424981625561486e-08\n",
              "  },\n",
              "  \"flagged\": false\n",
              "}"
            ]
          },
          "metadata": {},
          "execution_count": 10
        }
      ]
    },
    {
      "cell_type": "markdown",
      "source": [
        "# Asking GPT to create a short poem"
      ],
      "metadata": {
        "id": "e3R8kfQEG_Ny"
      }
    },
    {
      "cell_type": "code",
      "source": [
        "def create_poem_prompt(name, author, lines = 8):\n",
        "  prompt = f\"A {lines} lines poem that rimes, about a woman named {name}, in the style of {author}:\"\n",
        "  return prompt\n",
        "\n",
        "def generate_GPT_poem():\n",
        "  response = openai.Completion.create(\n",
        "    model='text-davinci-003',\n",
        "    prompt=create_poem_prompt(\"Anouk\",\"Pablo Neruda\"), \n",
        "    temperature = 0.3,\n",
        "    max_tokens=300)\n",
        "  return response['choices'][0]['text']\n"
      ],
      "metadata": {
        "id": "-LJyXdgdj4dm"
      },
      "execution_count": 17,
      "outputs": []
    },
    {
      "cell_type": "code",
      "source": [
        "poem = generate_GPT_poem()\n",
        "print(poem)"
      ],
      "metadata": {
        "colab": {
          "base_uri": "https://localhost:8080/"
        },
        "id": "ZlXsEfGv4pf-",
        "outputId": "d170c522-53cb-482b-ac38-cad8d24b303f"
      },
      "execution_count": 53,
      "outputs": [
        {
          "output_type": "stream",
          "name": "stdout",
          "text": [
            "\n",
            "\n",
            "Anouk, a woman of beauty and grace,\n",
            "A heart of gold, a smile so sweet to face.\n",
            "Her eyes so bright, her hair so fair,\n",
            "A gentle soul, a beauty so rare.\n",
            "\n",
            "Her spirit so strong, her will so sure,\n",
            "Her courage and strength, an inspiration pure.\n",
            "A kind and gentle woman, a heart so true,\n",
            "Anouk, a woman of beauty, so lovely to view.\n"
          ]
        }
      ]
    },
    {
      "cell_type": "markdown",
      "source": [
        "# Generating a nice picture with DALL-E"
      ],
      "metadata": {
        "id": "SQizLdikHHuw"
      }
    },
    {
      "cell_type": "code",
      "source": [
        "def generate_DALLE_image_url():\n",
        "  response = openai.Image.create(\n",
        "    prompt=\"a romantic digital art painting of a couple of lovers\",\n",
        "    n=1,\n",
        "    size=\"1024x1024\")\n",
        "  return response['data'][0]['url']\n",
        "\n",
        "def save_image(image_url, filename):\n",
        "  image_res = requests.get(image_url, stream=True)\n",
        "  if image_res.status_code == 200:\n",
        "    with open(filename, 'wb') as f:\n",
        "      shutil.copyfileobj(image_res.raw, f)\n",
        "  else:\n",
        "    print ('There was an error while loading the image')\n",
        "  return image_res.status_code"
      ],
      "metadata": {
        "id": "cMOuph6i5uS-"
      },
      "execution_count": 54,
      "outputs": []
    },
    {
      "cell_type": "code",
      "source": [
        "image_url = generate_DALLE_image_url()\n"
      ],
      "metadata": {
        "id": "PtuUZEn18uwV"
      },
      "execution_count": 55,
      "outputs": []
    },
    {
      "cell_type": "code",
      "source": [
        "save_image(image_url, 'poem_image.png')"
      ],
      "metadata": {
        "colab": {
          "base_uri": "https://localhost:8080/"
        },
        "id": "CCaII48w83q2",
        "outputId": "e33b54d2-95cc-41d1-d5cb-534c81ee9bd1"
      },
      "execution_count": 56,
      "outputs": [
        {
          "output_type": "execute_result",
          "data": {
            "text/plain": [
              "200"
            ]
          },
          "metadata": {},
          "execution_count": 56
        }
      ]
    },
    {
      "cell_type": "markdown",
      "source": [
        "# Combining image and text with Pillow"
      ],
      "metadata": {
        "id": "SeYNty1THXhW"
      }
    },
    {
      "cell_type": "code",
      "source": [
        "\n",
        "image = Image.open('poem_image.png')\n",
        "draw = ImageDraw.Draw(image)\n",
        "draw.font = ImageFont.truetype(\"DancingScript-Regular.ttf\", 50)\n",
        "x = 100\n",
        "y = 50\n",
        "# shadow\n",
        "draw.multiline_text((x+2,y+2), poem, fill=(50, 50, 50), align='left')\n",
        "# text\n",
        "draw.multiline_text((x,y), poem, fill=(255, 128, 128), align='left')\n",
        "image.save('poem.png')"
      ],
      "metadata": {
        "id": "S4V9NGf9-TKA"
      },
      "execution_count": 57,
      "outputs": []
    },
    {
      "cell_type": "code",
      "source": [],
      "metadata": {
        "id": "fsP5tWn1-2Mk"
      },
      "execution_count": null,
      "outputs": []
    }
  ]
}