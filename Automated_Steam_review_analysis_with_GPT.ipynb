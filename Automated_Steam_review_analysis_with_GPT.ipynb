{
  "nbformat": 4,
  "nbformat_minor": 0,
  "metadata": {
    "colab": {
      "provenance": [],
      "authorship_tag": "ABX9TyN9O+4Ccu8aSEos3Et3w0mP"
    },
    "kernelspec": {
      "name": "python3",
      "display_name": "Python 3"
    },
    "language_info": {
      "name": "python"
    }
  },
  "cells": [
    {
      "cell_type": "markdown",
      "source": [
        "#Loading recent negative reviews from STEAM"
      ],
      "metadata": {
        "id": "clPhL1nbnWAi"
      }
    },
    {
      "cell_type": "code",
      "source": [
        "!pip install steamreviews"
      ],
      "metadata": {
        "id": "bzFpyJjze9Qn"
      },
      "execution_count": null,
      "outputs": []
    },
    {
      "cell_type": "code",
      "source": [
        "import steamreviews # https://pypi.org/project/steamreviews/\n",
        "import pandas as pd\n"
      ],
      "metadata": {
        "id": "VnYN2fNzh0uc"
      },
      "execution_count": 38,
      "outputs": []
    },
    {
      "cell_type": "code",
      "source": [
        "app_id = 420 #Half-life 2\n",
        "\n",
        "# Reference: https://partner.steamgames.com/doc/store/getreviews\n",
        "request_params = dict()\n",
        "request_params['language'] = 'english'\n",
        "request_params['review_type'] = 'negative'\n",
        "request_params['purchase_type'] = 'steam'\n",
        "request_params['filter'] = 'recent'\n",
        "request_params['day_range'] = '28'\n",
        "\n",
        "review_dict, query_count = steamreviews.download_reviews_for_app_id(app_id, chosen_request_params=request_params)"
      ],
      "metadata": {
        "colab": {
          "base_uri": "https://localhost:8080/"
        },
        "id": "sx9OYfFLh3gs",
        "outputId": "2a0537de-6463-4f22-8faf-f7bbdbb959fb"
      },
      "execution_count": 94,
      "outputs": [
        {
          "output_type": "stream",
          "name": "stdout",
          "text": [
            "[appID = 420] expected #reviews = 380\n"
          ]
        }
      ]
    },
    {
      "cell_type": "code",
      "source": [
        "review_dict['reviews'][list(review_dict['reviews'].keys())[0]]"
      ],
      "metadata": {
        "colab": {
          "base_uri": "https://localhost:8080/"
        },
        "id": "WccpjEb3iC32",
        "outputId": "9d2b2711-00e7-4439-9fe2-7e0e3d893bdb"
      },
      "execution_count": 95,
      "outputs": [
        {
          "output_type": "execute_result",
          "data": {
            "text/plain": [
              "{'recommendationid': '133699736',\n",
              " 'author': {'steamid': '76561198864989974',\n",
              "  'num_games_owned': 50,\n",
              "  'num_reviews': 21,\n",
              "  'playtime_forever': 365,\n",
              "  'playtime_last_two_weeks': 0,\n",
              "  'playtime_at_review': 365,\n",
              "  'last_played': 1677448845},\n",
              " 'language': 'english',\n",
              " 'review': 'I gave up on the part where you need to defend against striders...a horrible level design, it was really frustrating, so I never finished this DLC\\notherwise its was an excellent DLC and I would give it 9.5/10, muuuch better than the first one',\n",
              " 'timestamp_created': 1677449499,\n",
              " 'timestamp_updated': 1677449499,\n",
              " 'voted_up': False,\n",
              " 'votes_up': 0,\n",
              " 'votes_funny': 1,\n",
              " 'weighted_vote_score': '0.446927368640899658',\n",
              " 'comment_count': 0,\n",
              " 'steam_purchase': True,\n",
              " 'received_for_free': False,\n",
              " 'written_during_early_access': False,\n",
              " 'hidden_in_steam_china': True,\n",
              " 'steam_china_location': ''}"
            ]
          },
          "metadata": {},
          "execution_count": 95
        }
      ]
    },
    {
      "cell_type": "code",
      "source": [
        "len(review_dict['reviews'])"
      ],
      "metadata": {
        "colab": {
          "base_uri": "https://localhost:8080/"
        },
        "id": "nNrn01uEiGrn",
        "outputId": "c6b83170-2444-46a2-b887-8b9ad4a32288"
      },
      "execution_count": 96,
      "outputs": [
        {
          "output_type": "execute_result",
          "data": {
            "text/plain": [
              "380"
            ]
          },
          "metadata": {},
          "execution_count": 96
        }
      ]
    },
    {
      "cell_type": "code",
      "source": [
        "# remove the fields we wont use\n",
        "df = pd.DataFrame(review_dict['reviews'].values(), )\n",
        "df = df[['recommendationid', 'review' ]]\n",
        "df.head()"
      ],
      "metadata": {
        "colab": {
          "base_uri": "https://localhost:8080/",
          "height": 206
        },
        "id": "MPvRCQFoowt-",
        "outputId": "73bbaad7-7a51-41ac-a85e-3f5714eec855"
      },
      "execution_count": 124,
      "outputs": [
        {
          "output_type": "execute_result",
          "data": {
            "text/plain": [
              "  recommendationid                                             review\n",
              "0        133699736  I gave up on the part where you need to defend...\n",
              "1        133400321                                        Lamarr died\n",
              "2        133383836                                                egg\n",
              "3        132852329  I'm glad that I waited for so long to finally ...\n",
              "4        132698796  kinda sucks since they refuse to continue the ..."
            ],
            "text/html": [
              "\n",
              "  <div id=\"df-11099279-f70e-47b1-b3f2-526adef0d424\">\n",
              "    <div class=\"colab-df-container\">\n",
              "      <div>\n",
              "<style scoped>\n",
              "    .dataframe tbody tr th:only-of-type {\n",
              "        vertical-align: middle;\n",
              "    }\n",
              "\n",
              "    .dataframe tbody tr th {\n",
              "        vertical-align: top;\n",
              "    }\n",
              "\n",
              "    .dataframe thead th {\n",
              "        text-align: right;\n",
              "    }\n",
              "</style>\n",
              "<table border=\"1\" class=\"dataframe\">\n",
              "  <thead>\n",
              "    <tr style=\"text-align: right;\">\n",
              "      <th></th>\n",
              "      <th>recommendationid</th>\n",
              "      <th>review</th>\n",
              "    </tr>\n",
              "  </thead>\n",
              "  <tbody>\n",
              "    <tr>\n",
              "      <th>0</th>\n",
              "      <td>133699736</td>\n",
              "      <td>I gave up on the part where you need to defend...</td>\n",
              "    </tr>\n",
              "    <tr>\n",
              "      <th>1</th>\n",
              "      <td>133400321</td>\n",
              "      <td>Lamarr died</td>\n",
              "    </tr>\n",
              "    <tr>\n",
              "      <th>2</th>\n",
              "      <td>133383836</td>\n",
              "      <td>egg</td>\n",
              "    </tr>\n",
              "    <tr>\n",
              "      <th>3</th>\n",
              "      <td>132852329</td>\n",
              "      <td>I'm glad that I waited for so long to finally ...</td>\n",
              "    </tr>\n",
              "    <tr>\n",
              "      <th>4</th>\n",
              "      <td>132698796</td>\n",
              "      <td>kinda sucks since they refuse to continue the ...</td>\n",
              "    </tr>\n",
              "  </tbody>\n",
              "</table>\n",
              "</div>\n",
              "      <button class=\"colab-df-convert\" onclick=\"convertToInteractive('df-11099279-f70e-47b1-b3f2-526adef0d424')\"\n",
              "              title=\"Convert this dataframe to an interactive table.\"\n",
              "              style=\"display:none;\">\n",
              "        \n",
              "  <svg xmlns=\"http://www.w3.org/2000/svg\" height=\"24px\"viewBox=\"0 0 24 24\"\n",
              "       width=\"24px\">\n",
              "    <path d=\"M0 0h24v24H0V0z\" fill=\"none\"/>\n",
              "    <path d=\"M18.56 5.44l.94 2.06.94-2.06 2.06-.94-2.06-.94-.94-2.06-.94 2.06-2.06.94zm-11 1L8.5 8.5l.94-2.06 2.06-.94-2.06-.94L8.5 2.5l-.94 2.06-2.06.94zm10 10l.94 2.06.94-2.06 2.06-.94-2.06-.94-.94-2.06-.94 2.06-2.06.94z\"/><path d=\"M17.41 7.96l-1.37-1.37c-.4-.4-.92-.59-1.43-.59-.52 0-1.04.2-1.43.59L10.3 9.45l-7.72 7.72c-.78.78-.78 2.05 0 2.83L4 21.41c.39.39.9.59 1.41.59.51 0 1.02-.2 1.41-.59l7.78-7.78 2.81-2.81c.8-.78.8-2.07 0-2.86zM5.41 20L4 18.59l7.72-7.72 1.47 1.35L5.41 20z\"/>\n",
              "  </svg>\n",
              "      </button>\n",
              "      \n",
              "  <style>\n",
              "    .colab-df-container {\n",
              "      display:flex;\n",
              "      flex-wrap:wrap;\n",
              "      gap: 12px;\n",
              "    }\n",
              "\n",
              "    .colab-df-convert {\n",
              "      background-color: #E8F0FE;\n",
              "      border: none;\n",
              "      border-radius: 50%;\n",
              "      cursor: pointer;\n",
              "      display: none;\n",
              "      fill: #1967D2;\n",
              "      height: 32px;\n",
              "      padding: 0 0 0 0;\n",
              "      width: 32px;\n",
              "    }\n",
              "\n",
              "    .colab-df-convert:hover {\n",
              "      background-color: #E2EBFA;\n",
              "      box-shadow: 0px 1px 2px rgba(60, 64, 67, 0.3), 0px 1px 3px 1px rgba(60, 64, 67, 0.15);\n",
              "      fill: #174EA6;\n",
              "    }\n",
              "\n",
              "    [theme=dark] .colab-df-convert {\n",
              "      background-color: #3B4455;\n",
              "      fill: #D2E3FC;\n",
              "    }\n",
              "\n",
              "    [theme=dark] .colab-df-convert:hover {\n",
              "      background-color: #434B5C;\n",
              "      box-shadow: 0px 1px 3px 1px rgba(0, 0, 0, 0.15);\n",
              "      filter: drop-shadow(0px 1px 2px rgba(0, 0, 0, 0.3));\n",
              "      fill: #FFFFFF;\n",
              "    }\n",
              "  </style>\n",
              "\n",
              "      <script>\n",
              "        const buttonEl =\n",
              "          document.querySelector('#df-11099279-f70e-47b1-b3f2-526adef0d424 button.colab-df-convert');\n",
              "        buttonEl.style.display =\n",
              "          google.colab.kernel.accessAllowed ? 'block' : 'none';\n",
              "\n",
              "        async function convertToInteractive(key) {\n",
              "          const element = document.querySelector('#df-11099279-f70e-47b1-b3f2-526adef0d424');\n",
              "          const dataTable =\n",
              "            await google.colab.kernel.invokeFunction('convertToInteractive',\n",
              "                                                     [key], {});\n",
              "          if (!dataTable) return;\n",
              "\n",
              "          const docLinkHtml = 'Like what you see? Visit the ' +\n",
              "            '<a target=\"_blank\" href=https://colab.research.google.com/notebooks/data_table.ipynb>data table notebook</a>'\n",
              "            + ' to learn more about interactive tables.';\n",
              "          element.innerHTML = '';\n",
              "          dataTable['output_type'] = 'display_data';\n",
              "          await google.colab.output.renderOutput(dataTable, element);\n",
              "          const docLink = document.createElement('div');\n",
              "          docLink.innerHTML = docLinkHtml;\n",
              "          element.appendChild(docLink);\n",
              "        }\n",
              "      </script>\n",
              "    </div>\n",
              "  </div>\n",
              "  "
            ]
          },
          "metadata": {},
          "execution_count": 124
        }
      ]
    },
    {
      "cell_type": "markdown",
      "source": [
        "# Sending them to GPT"
      ],
      "metadata": {
        "id": "h55wGHaosWhU"
      }
    },
    {
      "cell_type": "code",
      "execution_count": null,
      "metadata": {
        "id": "HGDEYKe7_gYd"
      },
      "outputs": [],
      "source": [
        "!pip install --upgrade pip\n",
        "!pip install setuptools wheel\n",
        "!pip install openai"
      ]
    },
    {
      "cell_type": "code",
      "source": [
        "import openai "
      ],
      "metadata": {
        "id": "FGjzrAs9b9fK"
      },
      "execution_count": 63,
      "outputs": []
    },
    {
      "cell_type": "code",
      "source": [
        "#os.environ[\"OPENAI_API_KEY\"] = 'API KEY HERE'"
      ],
      "metadata": {
        "id": "g-B5ovkkesNN"
      },
      "execution_count": 146,
      "outputs": []
    },
    {
      "cell_type": "code",
      "source": [
        "openai.api_key = os.getenv('OPENAI_API_KEY')"
      ],
      "metadata": {
        "id": "tKK8Kw7dsy3u"
      },
      "execution_count": 65,
      "outputs": []
    },
    {
      "cell_type": "code",
      "source": [
        "def make_review_prompt(reviews_list, max_number_of_reviews = 50):\n",
        "  '''\n",
        "    Returns a GPT prompt asking to analyse a list of steam reviews and provide the 10 most common issues.\n",
        "\n",
        "            Parameters:\n",
        "                    reviews_list : a list of reviews generated with steamreviews\n",
        "                    max_number_of_reviews : the maximm number of reviews that will be included in the prompt\n",
        "\n",
        "            Returns:\n",
        "                    prompt (str): a prompt for GPT\n",
        "    '''\n",
        "  reviews = ''\n",
        "\n",
        "  if max_number_of_reviews > len(reviews_list):\n",
        "     max_number_of_reviews = len(reviews_list);\n",
        "\n",
        "  for i in range(max_number_of_reviews):\n",
        "    reviews += \"\\n\\nreview_id : \" + reviews_list.recommendationid[i]  + \"\\nreview_text : \" + reviews_list.review[i]\n",
        "  \n",
        "  return '''\n",
        "    Read these reviews and tell me what are the 10 most common issues reported. \n",
        "    For each issue, provide relevant review_id(s) and keywords associated with the issue. \n",
        "    Reviews:''' + reviews + \"\\n\\nThe 10 most common issues reported: \""
      ],
      "metadata": {
        "id": "3mb718cgto36"
      },
      "execution_count": 147,
      "outputs": []
    },
    {
      "cell_type": "code",
      "source": [
        "prompt = make_review_prompt(df, 35)"
      ],
      "metadata": {
        "id": "KdcSxMNh0K7E"
      },
      "execution_count": 148,
      "outputs": []
    },
    {
      "cell_type": "code",
      "source": [
        "response = openai.Completion.create(\n",
        "    model='text-davinci-003',\n",
        "    prompt=prompt, \n",
        "    max_tokens=1000)\n",
        "\n",
        "print(response['choices'][0]['text'])"
      ],
      "metadata": {
        "colab": {
          "base_uri": "https://localhost:8080/"
        },
        "id": "LP6EE8I1s1UX",
        "outputId": "dc9b5044-b40d-43bf-c72e-a94e9371b67f"
      },
      "execution_count": 144,
      "outputs": [
        {
          "output_type": "stream",
          "name": "stdout",
          "text": [
            "\n",
            "\n",
            "1. Unfinished product (review_id: 129080634, 128777479, 128632453, 127908755) - Keywords: unfinished, cliffhanger, incomplete, unresolved\n",
            "2. Poor level design (review_id: 133699736) - Keywords: horrible, frustrating\n",
            "3. Obnoxious characters/NPCs (review_id: 132698796, 130110119, 128767749) - Keywords: obnoxious, nagging\n",
            "4. Confusing FoV settings (review_id: 133383836) - Keywords: FoV\n",
            "5. Overuse of the trope \"Oh, everyone always knew all about this but just never mentioned it\" (review_id: 132852329) - Keywords: always knew, never mentioned\n",
            "6. Lackluster/repetitive gameplay (review_id: 130846992, 127090766, 127908755, 123225118, 120913424, 120254438, 119893438) - Keywords: repetitive, lackluster, boring\n",
            "7. Poor integration of Portal (review_id: 132852329) - Keywords: Portal, integration\n",
            "8. Strider battle is hard/frustrating (review_id: 133699736, 132176313, 119419451) - Keywords: strider, hard, frustrating\n",
            "9. Unnecessary grind (review_id: 128277724) - Keywords: grind\n",
            "10. Difficult/unknown PC requirements (review_id: 128277724, 121028494, 119527237) - Keywords: difficult, unknown, requirements\n"
          ]
        }
      ]
    },
    {
      "cell_type": "code",
      "source": [],
      "metadata": {
        "id": "if6-l2X2s6mn"
      },
      "execution_count": null,
      "outputs": []
    }
  ]
}