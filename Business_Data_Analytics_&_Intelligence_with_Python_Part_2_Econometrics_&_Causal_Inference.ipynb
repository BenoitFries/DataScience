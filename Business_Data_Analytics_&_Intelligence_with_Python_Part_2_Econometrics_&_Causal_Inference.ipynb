{
  "nbformat": 4,
  "nbformat_minor": 0,
  "metadata": {
    "colab": {
      "provenance": [],
      "toc_visible": true,
      "mount_file_id": "180FdTaJKYDORxNYH8OEfYsgq_xePrPs8",
      "authorship_tag": "ABX9TyNNNUclNvNYxZ9w38yVSy53"
    },
    "kernelspec": {
      "name": "python3",
      "display_name": "Python 3"
    },
    "language_info": {
      "name": "python"
    }
  },
  "cells": [
    {
      "cell_type": "markdown",
      "source": [
        "# Econometrics & Causal Inference\n",
        "\n"
      ],
      "metadata": {
        "id": "jdecHeYJZ-2_"
      }
    },
    {
      "cell_type": "markdown",
      "source": [
        "## Google Causal Impact\n",
        "\n",
        "* Define pre and post periods (pre should be longer than post)\n",
        "* Retrieve data\n",
        "* Check whether the variables are correlated in the pre-period\n",
        "* Remove non-correlated data\n",
        "* Use causal impact"
      ],
      "metadata": {
        "id": "38XRoe5VbTfJ"
      }
    },
    {
      "cell_type": "code",
      "source": [
        "%cd /content/drive/MyDrive/Business Analyst course/Econometrics and Causal Inference/Google Causal Impact"
      ],
      "metadata": {
        "id": "fSQXsLhHrRb2",
        "colab": {
          "base_uri": "https://localhost:8080/"
        },
        "outputId": "31319c78-bc0f-4b32-9ac1-4dd57e045a8f"
      },
      "execution_count": 1,
      "outputs": [
        {
          "output_type": "stream",
          "name": "stdout",
          "text": [
            "/content/drive/MyDrive/Business Analyst course/Econometrics and Causal Inference/Google Causal Impact\n"
          ]
        }
      ]
    },
    {
      "cell_type": "code",
      "source": [
        "!pip install yfinance\n",
        "!pip install tfcausalimpact"
      ],
      "metadata": {
        "id": "rMcym53rs2gR"
      },
      "execution_count": null,
      "outputs": []
    },
    {
      "cell_type": "code",
      "source": [
        "import yfinance as yf\n",
        "from causalimpact import CausalImpact\n",
        "import matplotlib.pyplot as plt\n",
        "import pandas as pd\n",
        "import seaborn as sns\n",
        "import scipy.stats as st\n",
        "import math as m\n",
        "import statsmodels.stats.api as sm\n",
        "import numpy as np\n"
      ],
      "metadata": {
        "id": "ahC9TiR9rpHv"
      },
      "execution_count": 3,
      "outputs": []
    },
    {
      "cell_type": "markdown",
      "source": [
        "### The problem we are studying\n",
        "\n",
        "**We are studying the bitcoin price to measure the impact of Paypal accepting bitcoin on bitcoin's price.**"
      ],
      "metadata": {
        "id": "PkJJ0fngue2X"
      }
    },
    {
      "cell_type": "code",
      "source": [
        "#Dates\n",
        "training_start =  \"2020-09-01\" \n",
        "training_end =    \"2020-10-19\"\n",
        "treatment_start = \"2020-10-20\"\n",
        "treatment_end =   \"2020-10-23\"\n",
        "end_stock =       \"2020-10-24\""
      ],
      "metadata": {
        "id": "2Gp4brmYtVpl"
      },
      "execution_count": 4,
      "outputs": []
    },
    {
      "cell_type": "markdown",
      "source": [
        "### Loading financial data"
      ],
      "metadata": {
        "id": "-My8y95cuTaI"
      }
    },
    {
      "cell_type": "code",
      "source": [
        "y = [\"BTC-USD\"]\n",
        "y = yf.download(tickers=y,\n",
        "                start = training_start,\n",
        "                end = end_stock,\n",
        "                interval = '1d')\n",
        "y = y['Adj Close'].rename(\"y\")\n",
        "y[:1]"
      ],
      "metadata": {
        "colab": {
          "base_uri": "https://localhost:8080/"
        },
        "id": "hfNlfs0BuK6p",
        "outputId": "5b8f7b31-059c-4c59-fa7f-9a30ae3aadb5"
      },
      "execution_count": 5,
      "outputs": [
        {
          "output_type": "stream",
          "name": "stdout",
          "text": [
            "\r[*********************100%***********************]  1 of 1 completed\n"
          ]
        },
        {
          "output_type": "execute_result",
          "data": {
            "text/plain": [
              "Date\n",
              "2020-09-01    11970.478516\n",
              "Name: y, dtype: float64"
            ]
          },
          "metadata": {},
          "execution_count": 5
        }
      ]
    },
    {
      "cell_type": "markdown",
      "source": [
        "###Assumptions\n",
        "\n",
        "* **Parallel Trends Assumption** : the treatment and control groups are assumed to have the same evolution for the KPI\n",
        "* **Confounding Policy Change** : There is only one policy that differentiate the treatment from the control groups.\n",
        "\n",
        "We can strenghthen the assumptions by:\n",
        "* using more control groups\n",
        "* using a longer training period \n",
        "* keeping the post-treatment period to the bare minimum."
      ],
      "metadata": {
        "id": "EHG3FxvXvZ-8"
      }
    },
    {
      "cell_type": "code",
      "source": [
        "stocks = [\"ZAL.DE\", \"SQ\", \"CRSP\", \"TRMB\", \"JD\", \"DE\", \"KTOS\", \"GOOG\"]\n",
        "X = yf.download(tickers=stocks,\n",
        "                start = training_start,\n",
        "                end = end_stock,\n",
        "                interval = '1d')\n",
        "X.head()"
      ],
      "metadata": {
        "colab": {
          "base_uri": "https://localhost:8080/",
          "height": 380
        },
        "id": "DtZHrJglvC7X",
        "outputId": "8523ebd6-613d-4e5b-e429-a4e10b6ce6b8"
      },
      "execution_count": 6,
      "outputs": [
        {
          "output_type": "stream",
          "name": "stdout",
          "text": [
            "[*********************100%***********************]  8 of 8 completed\n"
          ]
        },
        {
          "output_type": "execute_result",
          "data": {
            "text/plain": [
              "            Adj Close                                               \\\n",
              "                 CRSP          DE       GOOG         JD       KTOS   \n",
              "Date                                                                 \n",
              "2020-09-01  93.419998  211.338715  83.035500  80.459969  19.700001   \n",
              "2020-09-02  93.930000  210.775650  86.414001  81.162254  19.910000   \n",
              "2020-09-03  85.690002  204.659454  82.092003  77.094872  19.520000   \n",
              "2020-09-04  82.019997  205.173996  79.552002  78.031250  19.260000   \n",
              "2020-09-07        NaN         NaN        NaN        NaN        NaN   \n",
              "\n",
              "                                                  Close              ...  \\\n",
              "                    SQ       TRMB     ZAL.DE       CRSP          DE  ...   \n",
              "Date                                                                 ...   \n",
              "2020-09-01  166.660004  53.410000  77.000000  93.419998  217.690002  ...   \n",
              "2020-09-02  162.880005  54.310001  77.000000  93.930000  217.110001  ...   \n",
              "2020-09-03  152.860001  50.900002  75.080002  85.690002  210.809998  ...   \n",
              "2020-09-04  146.389999  49.959999  71.739998  82.019997  211.339996  ...   \n",
              "2020-09-07         NaN        NaN  74.000000        NaN         NaN  ...   \n",
              "\n",
              "                 Open                Volume                         \\\n",
              "                 TRMB     ZAL.DE       CRSP         DE        GOOG   \n",
              "Date                                                                 \n",
              "2020-09-01  52.669998  74.959999   779500.0  1873400.0  36506000.0   \n",
              "2020-09-02  53.779999  77.500000   532000.0  1983000.0  50224000.0   \n",
              "2020-09-03  54.130001  77.260002  1278900.0  1975200.0  62156000.0   \n",
              "2020-09-04  51.040001  74.800003  1570300.0  1662300.0  52172000.0   \n",
              "2020-09-07        NaN  72.239998        NaN        NaN         NaN   \n",
              "\n",
              "                                                                  \n",
              "                    JD       KTOS          SQ       TRMB  ZAL.DE  \n",
              "Date                                                              \n",
              "2020-09-01  11431400.0   587600.0  12306400.0   542300.0  790198  \n",
              "2020-09-02  13860900.0   612800.0  11214800.0   728800.0  496554  \n",
              "2020-09-03  19254000.0   847100.0  16421200.0  1220300.0  736259  \n",
              "2020-09-04  21500900.0  1060000.0  17995200.0   914700.0  662250  \n",
              "2020-09-07         NaN        NaN         NaN        NaN  362062  \n",
              "\n",
              "[5 rows x 48 columns]"
            ],
            "text/html": [
              "\n",
              "  <div id=\"df-2b2bf070-f25d-41af-9c73-263e8d2d00c0\">\n",
              "    <div class=\"colab-df-container\">\n",
              "      <div>\n",
              "<style scoped>\n",
              "    .dataframe tbody tr th:only-of-type {\n",
              "        vertical-align: middle;\n",
              "    }\n",
              "\n",
              "    .dataframe tbody tr th {\n",
              "        vertical-align: top;\n",
              "    }\n",
              "\n",
              "    .dataframe thead tr th {\n",
              "        text-align: left;\n",
              "    }\n",
              "\n",
              "    .dataframe thead tr:last-of-type th {\n",
              "        text-align: right;\n",
              "    }\n",
              "</style>\n",
              "<table border=\"1\" class=\"dataframe\">\n",
              "  <thead>\n",
              "    <tr>\n",
              "      <th></th>\n",
              "      <th colspan=\"8\" halign=\"left\">Adj Close</th>\n",
              "      <th colspan=\"2\" halign=\"left\">Close</th>\n",
              "      <th>...</th>\n",
              "      <th colspan=\"2\" halign=\"left\">Open</th>\n",
              "      <th colspan=\"8\" halign=\"left\">Volume</th>\n",
              "    </tr>\n",
              "    <tr>\n",
              "      <th></th>\n",
              "      <th>CRSP</th>\n",
              "      <th>DE</th>\n",
              "      <th>GOOG</th>\n",
              "      <th>JD</th>\n",
              "      <th>KTOS</th>\n",
              "      <th>SQ</th>\n",
              "      <th>TRMB</th>\n",
              "      <th>ZAL.DE</th>\n",
              "      <th>CRSP</th>\n",
              "      <th>DE</th>\n",
              "      <th>...</th>\n",
              "      <th>TRMB</th>\n",
              "      <th>ZAL.DE</th>\n",
              "      <th>CRSP</th>\n",
              "      <th>DE</th>\n",
              "      <th>GOOG</th>\n",
              "      <th>JD</th>\n",
              "      <th>KTOS</th>\n",
              "      <th>SQ</th>\n",
              "      <th>TRMB</th>\n",
              "      <th>ZAL.DE</th>\n",
              "    </tr>\n",
              "    <tr>\n",
              "      <th>Date</th>\n",
              "      <th></th>\n",
              "      <th></th>\n",
              "      <th></th>\n",
              "      <th></th>\n",
              "      <th></th>\n",
              "      <th></th>\n",
              "      <th></th>\n",
              "      <th></th>\n",
              "      <th></th>\n",
              "      <th></th>\n",
              "      <th></th>\n",
              "      <th></th>\n",
              "      <th></th>\n",
              "      <th></th>\n",
              "      <th></th>\n",
              "      <th></th>\n",
              "      <th></th>\n",
              "      <th></th>\n",
              "      <th></th>\n",
              "      <th></th>\n",
              "      <th></th>\n",
              "    </tr>\n",
              "  </thead>\n",
              "  <tbody>\n",
              "    <tr>\n",
              "      <th>2020-09-01</th>\n",
              "      <td>93.419998</td>\n",
              "      <td>211.338715</td>\n",
              "      <td>83.035500</td>\n",
              "      <td>80.459969</td>\n",
              "      <td>19.700001</td>\n",
              "      <td>166.660004</td>\n",
              "      <td>53.410000</td>\n",
              "      <td>77.000000</td>\n",
              "      <td>93.419998</td>\n",
              "      <td>217.690002</td>\n",
              "      <td>...</td>\n",
              "      <td>52.669998</td>\n",
              "      <td>74.959999</td>\n",
              "      <td>779500.0</td>\n",
              "      <td>1873400.0</td>\n",
              "      <td>36506000.0</td>\n",
              "      <td>11431400.0</td>\n",
              "      <td>587600.0</td>\n",
              "      <td>12306400.0</td>\n",
              "      <td>542300.0</td>\n",
              "      <td>790198</td>\n",
              "    </tr>\n",
              "    <tr>\n",
              "      <th>2020-09-02</th>\n",
              "      <td>93.930000</td>\n",
              "      <td>210.775650</td>\n",
              "      <td>86.414001</td>\n",
              "      <td>81.162254</td>\n",
              "      <td>19.910000</td>\n",
              "      <td>162.880005</td>\n",
              "      <td>54.310001</td>\n",
              "      <td>77.000000</td>\n",
              "      <td>93.930000</td>\n",
              "      <td>217.110001</td>\n",
              "      <td>...</td>\n",
              "      <td>53.779999</td>\n",
              "      <td>77.500000</td>\n",
              "      <td>532000.0</td>\n",
              "      <td>1983000.0</td>\n",
              "      <td>50224000.0</td>\n",
              "      <td>13860900.0</td>\n",
              "      <td>612800.0</td>\n",
              "      <td>11214800.0</td>\n",
              "      <td>728800.0</td>\n",
              "      <td>496554</td>\n",
              "    </tr>\n",
              "    <tr>\n",
              "      <th>2020-09-03</th>\n",
              "      <td>85.690002</td>\n",
              "      <td>204.659454</td>\n",
              "      <td>82.092003</td>\n",
              "      <td>77.094872</td>\n",
              "      <td>19.520000</td>\n",
              "      <td>152.860001</td>\n",
              "      <td>50.900002</td>\n",
              "      <td>75.080002</td>\n",
              "      <td>85.690002</td>\n",
              "      <td>210.809998</td>\n",
              "      <td>...</td>\n",
              "      <td>54.130001</td>\n",
              "      <td>77.260002</td>\n",
              "      <td>1278900.0</td>\n",
              "      <td>1975200.0</td>\n",
              "      <td>62156000.0</td>\n",
              "      <td>19254000.0</td>\n",
              "      <td>847100.0</td>\n",
              "      <td>16421200.0</td>\n",
              "      <td>1220300.0</td>\n",
              "      <td>736259</td>\n",
              "    </tr>\n",
              "    <tr>\n",
              "      <th>2020-09-04</th>\n",
              "      <td>82.019997</td>\n",
              "      <td>205.173996</td>\n",
              "      <td>79.552002</td>\n",
              "      <td>78.031250</td>\n",
              "      <td>19.260000</td>\n",
              "      <td>146.389999</td>\n",
              "      <td>49.959999</td>\n",
              "      <td>71.739998</td>\n",
              "      <td>82.019997</td>\n",
              "      <td>211.339996</td>\n",
              "      <td>...</td>\n",
              "      <td>51.040001</td>\n",
              "      <td>74.800003</td>\n",
              "      <td>1570300.0</td>\n",
              "      <td>1662300.0</td>\n",
              "      <td>52172000.0</td>\n",
              "      <td>21500900.0</td>\n",
              "      <td>1060000.0</td>\n",
              "      <td>17995200.0</td>\n",
              "      <td>914700.0</td>\n",
              "      <td>662250</td>\n",
              "    </tr>\n",
              "    <tr>\n",
              "      <th>2020-09-07</th>\n",
              "      <td>NaN</td>\n",
              "      <td>NaN</td>\n",
              "      <td>NaN</td>\n",
              "      <td>NaN</td>\n",
              "      <td>NaN</td>\n",
              "      <td>NaN</td>\n",
              "      <td>NaN</td>\n",
              "      <td>74.000000</td>\n",
              "      <td>NaN</td>\n",
              "      <td>NaN</td>\n",
              "      <td>...</td>\n",
              "      <td>NaN</td>\n",
              "      <td>72.239998</td>\n",
              "      <td>NaN</td>\n",
              "      <td>NaN</td>\n",
              "      <td>NaN</td>\n",
              "      <td>NaN</td>\n",
              "      <td>NaN</td>\n",
              "      <td>NaN</td>\n",
              "      <td>NaN</td>\n",
              "      <td>362062</td>\n",
              "    </tr>\n",
              "  </tbody>\n",
              "</table>\n",
              "<p>5 rows × 48 columns</p>\n",
              "</div>\n",
              "      <button class=\"colab-df-convert\" onclick=\"convertToInteractive('df-2b2bf070-f25d-41af-9c73-263e8d2d00c0')\"\n",
              "              title=\"Convert this dataframe to an interactive table.\"\n",
              "              style=\"display:none;\">\n",
              "        \n",
              "  <svg xmlns=\"http://www.w3.org/2000/svg\" height=\"24px\"viewBox=\"0 0 24 24\"\n",
              "       width=\"24px\">\n",
              "    <path d=\"M0 0h24v24H0V0z\" fill=\"none\"/>\n",
              "    <path d=\"M18.56 5.44l.94 2.06.94-2.06 2.06-.94-2.06-.94-.94-2.06-.94 2.06-2.06.94zm-11 1L8.5 8.5l.94-2.06 2.06-.94-2.06-.94L8.5 2.5l-.94 2.06-2.06.94zm10 10l.94 2.06.94-2.06 2.06-.94-2.06-.94-.94-2.06-.94 2.06-2.06.94z\"/><path d=\"M17.41 7.96l-1.37-1.37c-.4-.4-.92-.59-1.43-.59-.52 0-1.04.2-1.43.59L10.3 9.45l-7.72 7.72c-.78.78-.78 2.05 0 2.83L4 21.41c.39.39.9.59 1.41.59.51 0 1.02-.2 1.41-.59l7.78-7.78 2.81-2.81c.8-.78.8-2.07 0-2.86zM5.41 20L4 18.59l7.72-7.72 1.47 1.35L5.41 20z\"/>\n",
              "  </svg>\n",
              "      </button>\n",
              "      \n",
              "  <style>\n",
              "    .colab-df-container {\n",
              "      display:flex;\n",
              "      flex-wrap:wrap;\n",
              "      gap: 12px;\n",
              "    }\n",
              "\n",
              "    .colab-df-convert {\n",
              "      background-color: #E8F0FE;\n",
              "      border: none;\n",
              "      border-radius: 50%;\n",
              "      cursor: pointer;\n",
              "      display: none;\n",
              "      fill: #1967D2;\n",
              "      height: 32px;\n",
              "      padding: 0 0 0 0;\n",
              "      width: 32px;\n",
              "    }\n",
              "\n",
              "    .colab-df-convert:hover {\n",
              "      background-color: #E2EBFA;\n",
              "      box-shadow: 0px 1px 2px rgba(60, 64, 67, 0.3), 0px 1px 3px 1px rgba(60, 64, 67, 0.15);\n",
              "      fill: #174EA6;\n",
              "    }\n",
              "\n",
              "    [theme=dark] .colab-df-convert {\n",
              "      background-color: #3B4455;\n",
              "      fill: #D2E3FC;\n",
              "    }\n",
              "\n",
              "    [theme=dark] .colab-df-convert:hover {\n",
              "      background-color: #434B5C;\n",
              "      box-shadow: 0px 1px 3px 1px rgba(0, 0, 0, 0.15);\n",
              "      filter: drop-shadow(0px 1px 2px rgba(0, 0, 0, 0.3));\n",
              "      fill: #FFFFFF;\n",
              "    }\n",
              "  </style>\n",
              "\n",
              "      <script>\n",
              "        const buttonEl =\n",
              "          document.querySelector('#df-2b2bf070-f25d-41af-9c73-263e8d2d00c0 button.colab-df-convert');\n",
              "        buttonEl.style.display =\n",
              "          google.colab.kernel.accessAllowed ? 'block' : 'none';\n",
              "\n",
              "        async function convertToInteractive(key) {\n",
              "          const element = document.querySelector('#df-2b2bf070-f25d-41af-9c73-263e8d2d00c0');\n",
              "          const dataTable =\n",
              "            await google.colab.kernel.invokeFunction('convertToInteractive',\n",
              "                                                     [key], {});\n",
              "          if (!dataTable) return;\n",
              "\n",
              "          const docLinkHtml = 'Like what you see? Visit the ' +\n",
              "            '<a target=\"_blank\" href=https://colab.research.google.com/notebooks/data_table.ipynb>data table notebook</a>'\n",
              "            + ' to learn more about interactive tables.';\n",
              "          element.innerHTML = '';\n",
              "          dataTable['output_type'] = 'display_data';\n",
              "          await google.colab.output.renderOutput(dataTable, element);\n",
              "          const docLink = document.createElement('div');\n",
              "          docLink.innerHTML = docLinkHtml;\n",
              "          element.appendChild(docLink);\n",
              "        }\n",
              "      </script>\n",
              "    </div>\n",
              "  </div>\n",
              "  "
            ]
          },
          "metadata": {},
          "execution_count": 6
        }
      ]
    },
    {
      "cell_type": "code",
      "source": [
        "# we need to get rid of NaNs, and format our table\n",
        "X = X.iloc[:,:len(stocks)]\n",
        "X.head(1)"
      ],
      "metadata": {
        "colab": {
          "base_uri": "https://localhost:8080/",
          "height": 143
        },
        "id": "ba8_vRuUw5ly",
        "outputId": "f6a1e0a5-8644-4656-b745-5f361d221130"
      },
      "execution_count": 7,
      "outputs": [
        {
          "output_type": "execute_result",
          "data": {
            "text/plain": [
              "            Adj Close                                                         \\\n",
              "                 CRSP          DE     GOOG         JD       KTOS          SQ   \n",
              "Date                                                                           \n",
              "2020-09-01  93.419998  211.338715  83.0355  80.459969  19.700001  166.660004   \n",
              "\n",
              "                          \n",
              "             TRMB ZAL.DE  \n",
              "Date                      \n",
              "2020-09-01  53.41   77.0  "
            ],
            "text/html": [
              "\n",
              "  <div id=\"df-a2d9ccce-8778-46aa-90f8-c6e15a8874f4\">\n",
              "    <div class=\"colab-df-container\">\n",
              "      <div>\n",
              "<style scoped>\n",
              "    .dataframe tbody tr th:only-of-type {\n",
              "        vertical-align: middle;\n",
              "    }\n",
              "\n",
              "    .dataframe tbody tr th {\n",
              "        vertical-align: top;\n",
              "    }\n",
              "\n",
              "    .dataframe thead tr th {\n",
              "        text-align: left;\n",
              "    }\n",
              "\n",
              "    .dataframe thead tr:last-of-type th {\n",
              "        text-align: right;\n",
              "    }\n",
              "</style>\n",
              "<table border=\"1\" class=\"dataframe\">\n",
              "  <thead>\n",
              "    <tr>\n",
              "      <th></th>\n",
              "      <th colspan=\"8\" halign=\"left\">Adj Close</th>\n",
              "    </tr>\n",
              "    <tr>\n",
              "      <th></th>\n",
              "      <th>CRSP</th>\n",
              "      <th>DE</th>\n",
              "      <th>GOOG</th>\n",
              "      <th>JD</th>\n",
              "      <th>KTOS</th>\n",
              "      <th>SQ</th>\n",
              "      <th>TRMB</th>\n",
              "      <th>ZAL.DE</th>\n",
              "    </tr>\n",
              "    <tr>\n",
              "      <th>Date</th>\n",
              "      <th></th>\n",
              "      <th></th>\n",
              "      <th></th>\n",
              "      <th></th>\n",
              "      <th></th>\n",
              "      <th></th>\n",
              "      <th></th>\n",
              "      <th></th>\n",
              "    </tr>\n",
              "  </thead>\n",
              "  <tbody>\n",
              "    <tr>\n",
              "      <th>2020-09-01</th>\n",
              "      <td>93.419998</td>\n",
              "      <td>211.338715</td>\n",
              "      <td>83.0355</td>\n",
              "      <td>80.459969</td>\n",
              "      <td>19.700001</td>\n",
              "      <td>166.660004</td>\n",
              "      <td>53.41</td>\n",
              "      <td>77.0</td>\n",
              "    </tr>\n",
              "  </tbody>\n",
              "</table>\n",
              "</div>\n",
              "      <button class=\"colab-df-convert\" onclick=\"convertToInteractive('df-a2d9ccce-8778-46aa-90f8-c6e15a8874f4')\"\n",
              "              title=\"Convert this dataframe to an interactive table.\"\n",
              "              style=\"display:none;\">\n",
              "        \n",
              "  <svg xmlns=\"http://www.w3.org/2000/svg\" height=\"24px\"viewBox=\"0 0 24 24\"\n",
              "       width=\"24px\">\n",
              "    <path d=\"M0 0h24v24H0V0z\" fill=\"none\"/>\n",
              "    <path d=\"M18.56 5.44l.94 2.06.94-2.06 2.06-.94-2.06-.94-.94-2.06-.94 2.06-2.06.94zm-11 1L8.5 8.5l.94-2.06 2.06-.94-2.06-.94L8.5 2.5l-.94 2.06-2.06.94zm10 10l.94 2.06.94-2.06 2.06-.94-2.06-.94-.94-2.06-.94 2.06-2.06.94z\"/><path d=\"M17.41 7.96l-1.37-1.37c-.4-.4-.92-.59-1.43-.59-.52 0-1.04.2-1.43.59L10.3 9.45l-7.72 7.72c-.78.78-.78 2.05 0 2.83L4 21.41c.39.39.9.59 1.41.59.51 0 1.02-.2 1.41-.59l7.78-7.78 2.81-2.81c.8-.78.8-2.07 0-2.86zM5.41 20L4 18.59l7.72-7.72 1.47 1.35L5.41 20z\"/>\n",
              "  </svg>\n",
              "      </button>\n",
              "      \n",
              "  <style>\n",
              "    .colab-df-container {\n",
              "      display:flex;\n",
              "      flex-wrap:wrap;\n",
              "      gap: 12px;\n",
              "    }\n",
              "\n",
              "    .colab-df-convert {\n",
              "      background-color: #E8F0FE;\n",
              "      border: none;\n",
              "      border-radius: 50%;\n",
              "      cursor: pointer;\n",
              "      display: none;\n",
              "      fill: #1967D2;\n",
              "      height: 32px;\n",
              "      padding: 0 0 0 0;\n",
              "      width: 32px;\n",
              "    }\n",
              "\n",
              "    .colab-df-convert:hover {\n",
              "      background-color: #E2EBFA;\n",
              "      box-shadow: 0px 1px 2px rgba(60, 64, 67, 0.3), 0px 1px 3px 1px rgba(60, 64, 67, 0.15);\n",
              "      fill: #174EA6;\n",
              "    }\n",
              "\n",
              "    [theme=dark] .colab-df-convert {\n",
              "      background-color: #3B4455;\n",
              "      fill: #D2E3FC;\n",
              "    }\n",
              "\n",
              "    [theme=dark] .colab-df-convert:hover {\n",
              "      background-color: #434B5C;\n",
              "      box-shadow: 0px 1px 3px 1px rgba(0, 0, 0, 0.15);\n",
              "      filter: drop-shadow(0px 1px 2px rgba(0, 0, 0, 0.3));\n",
              "      fill: #FFFFFF;\n",
              "    }\n",
              "  </style>\n",
              "\n",
              "      <script>\n",
              "        const buttonEl =\n",
              "          document.querySelector('#df-a2d9ccce-8778-46aa-90f8-c6e15a8874f4 button.colab-df-convert');\n",
              "        buttonEl.style.display =\n",
              "          google.colab.kernel.accessAllowed ? 'block' : 'none';\n",
              "\n",
              "        async function convertToInteractive(key) {\n",
              "          const element = document.querySelector('#df-a2d9ccce-8778-46aa-90f8-c6e15a8874f4');\n",
              "          const dataTable =\n",
              "            await google.colab.kernel.invokeFunction('convertToInteractive',\n",
              "                                                     [key], {});\n",
              "          if (!dataTable) return;\n",
              "\n",
              "          const docLinkHtml = 'Like what you see? Visit the ' +\n",
              "            '<a target=\"_blank\" href=https://colab.research.google.com/notebooks/data_table.ipynb>data table notebook</a>'\n",
              "            + ' to learn more about interactive tables.';\n",
              "          element.innerHTML = '';\n",
              "          dataTable['output_type'] = 'display_data';\n",
              "          await google.colab.output.renderOutput(dataTable, element);\n",
              "          const docLink = document.createElement('div');\n",
              "          docLink.innerHTML = docLinkHtml;\n",
              "          element.appendChild(docLink);\n",
              "        }\n",
              "      </script>\n",
              "    </div>\n",
              "  </div>\n",
              "  "
            ]
          },
          "metadata": {},
          "execution_count": 7
        }
      ]
    },
    {
      "cell_type": "code",
      "source": [
        "X.columns"
      ],
      "metadata": {
        "colab": {
          "base_uri": "https://localhost:8080/"
        },
        "id": "u-j_P8ydxgHn",
        "outputId": "10a20afc-97c2-494d-82c4-6a503748b0a1"
      },
      "execution_count": 8,
      "outputs": [
        {
          "output_type": "execute_result",
          "data": {
            "text/plain": [
              "MultiIndex([('Adj Close',   'CRSP'),\n",
              "            ('Adj Close',     'DE'),\n",
              "            ('Adj Close',   'GOOG'),\n",
              "            ('Adj Close',     'JD'),\n",
              "            ('Adj Close',   'KTOS'),\n",
              "            ('Adj Close',     'SQ'),\n",
              "            ('Adj Close',   'TRMB'),\n",
              "            ('Adj Close', 'ZAL.DE')],\n",
              "           )"
            ]
          },
          "metadata": {},
          "execution_count": 8
        }
      ]
    },
    {
      "cell_type": "code",
      "source": [
        "X.columns = X.columns.droplevel()\n",
        "X.head(1)"
      ],
      "metadata": {
        "colab": {
          "base_uri": "https://localhost:8080/",
          "height": 112
        },
        "id": "_Ix1zyvfxk7H",
        "outputId": "3da66b35-ce4f-4cf6-ba6f-391644f4ff40"
      },
      "execution_count": 9,
      "outputs": [
        {
          "output_type": "execute_result",
          "data": {
            "text/plain": [
              "                 CRSP          DE     GOOG         JD       KTOS          SQ  \\\n",
              "Date                                                                           \n",
              "2020-09-01  93.419998  211.338715  83.0355  80.459969  19.700001  166.660004   \n",
              "\n",
              "             TRMB  ZAL.DE  \n",
              "Date                       \n",
              "2020-09-01  53.41    77.0  "
            ],
            "text/html": [
              "\n",
              "  <div id=\"df-44586d48-667c-4729-b25a-454c86d5ca33\">\n",
              "    <div class=\"colab-df-container\">\n",
              "      <div>\n",
              "<style scoped>\n",
              "    .dataframe tbody tr th:only-of-type {\n",
              "        vertical-align: middle;\n",
              "    }\n",
              "\n",
              "    .dataframe tbody tr th {\n",
              "        vertical-align: top;\n",
              "    }\n",
              "\n",
              "    .dataframe thead th {\n",
              "        text-align: right;\n",
              "    }\n",
              "</style>\n",
              "<table border=\"1\" class=\"dataframe\">\n",
              "  <thead>\n",
              "    <tr style=\"text-align: right;\">\n",
              "      <th></th>\n",
              "      <th>CRSP</th>\n",
              "      <th>DE</th>\n",
              "      <th>GOOG</th>\n",
              "      <th>JD</th>\n",
              "      <th>KTOS</th>\n",
              "      <th>SQ</th>\n",
              "      <th>TRMB</th>\n",
              "      <th>ZAL.DE</th>\n",
              "    </tr>\n",
              "    <tr>\n",
              "      <th>Date</th>\n",
              "      <th></th>\n",
              "      <th></th>\n",
              "      <th></th>\n",
              "      <th></th>\n",
              "      <th></th>\n",
              "      <th></th>\n",
              "      <th></th>\n",
              "      <th></th>\n",
              "    </tr>\n",
              "  </thead>\n",
              "  <tbody>\n",
              "    <tr>\n",
              "      <th>2020-09-01</th>\n",
              "      <td>93.419998</td>\n",
              "      <td>211.338715</td>\n",
              "      <td>83.0355</td>\n",
              "      <td>80.459969</td>\n",
              "      <td>19.700001</td>\n",
              "      <td>166.660004</td>\n",
              "      <td>53.41</td>\n",
              "      <td>77.0</td>\n",
              "    </tr>\n",
              "  </tbody>\n",
              "</table>\n",
              "</div>\n",
              "      <button class=\"colab-df-convert\" onclick=\"convertToInteractive('df-44586d48-667c-4729-b25a-454c86d5ca33')\"\n",
              "              title=\"Convert this dataframe to an interactive table.\"\n",
              "              style=\"display:none;\">\n",
              "        \n",
              "  <svg xmlns=\"http://www.w3.org/2000/svg\" height=\"24px\"viewBox=\"0 0 24 24\"\n",
              "       width=\"24px\">\n",
              "    <path d=\"M0 0h24v24H0V0z\" fill=\"none\"/>\n",
              "    <path d=\"M18.56 5.44l.94 2.06.94-2.06 2.06-.94-2.06-.94-.94-2.06-.94 2.06-2.06.94zm-11 1L8.5 8.5l.94-2.06 2.06-.94-2.06-.94L8.5 2.5l-.94 2.06-2.06.94zm10 10l.94 2.06.94-2.06 2.06-.94-2.06-.94-.94-2.06-.94 2.06-2.06.94z\"/><path d=\"M17.41 7.96l-1.37-1.37c-.4-.4-.92-.59-1.43-.59-.52 0-1.04.2-1.43.59L10.3 9.45l-7.72 7.72c-.78.78-.78 2.05 0 2.83L4 21.41c.39.39.9.59 1.41.59.51 0 1.02-.2 1.41-.59l7.78-7.78 2.81-2.81c.8-.78.8-2.07 0-2.86zM5.41 20L4 18.59l7.72-7.72 1.47 1.35L5.41 20z\"/>\n",
              "  </svg>\n",
              "      </button>\n",
              "      \n",
              "  <style>\n",
              "    .colab-df-container {\n",
              "      display:flex;\n",
              "      flex-wrap:wrap;\n",
              "      gap: 12px;\n",
              "    }\n",
              "\n",
              "    .colab-df-convert {\n",
              "      background-color: #E8F0FE;\n",
              "      border: none;\n",
              "      border-radius: 50%;\n",
              "      cursor: pointer;\n",
              "      display: none;\n",
              "      fill: #1967D2;\n",
              "      height: 32px;\n",
              "      padding: 0 0 0 0;\n",
              "      width: 32px;\n",
              "    }\n",
              "\n",
              "    .colab-df-convert:hover {\n",
              "      background-color: #E2EBFA;\n",
              "      box-shadow: 0px 1px 2px rgba(60, 64, 67, 0.3), 0px 1px 3px 1px rgba(60, 64, 67, 0.15);\n",
              "      fill: #174EA6;\n",
              "    }\n",
              "\n",
              "    [theme=dark] .colab-df-convert {\n",
              "      background-color: #3B4455;\n",
              "      fill: #D2E3FC;\n",
              "    }\n",
              "\n",
              "    [theme=dark] .colab-df-convert:hover {\n",
              "      background-color: #434B5C;\n",
              "      box-shadow: 0px 1px 3px 1px rgba(0, 0, 0, 0.15);\n",
              "      filter: drop-shadow(0px 1px 2px rgba(0, 0, 0, 0.3));\n",
              "      fill: #FFFFFF;\n",
              "    }\n",
              "  </style>\n",
              "\n",
              "      <script>\n",
              "        const buttonEl =\n",
              "          document.querySelector('#df-44586d48-667c-4729-b25a-454c86d5ca33 button.colab-df-convert');\n",
              "        buttonEl.style.display =\n",
              "          google.colab.kernel.accessAllowed ? 'block' : 'none';\n",
              "\n",
              "        async function convertToInteractive(key) {\n",
              "          const element = document.querySelector('#df-44586d48-667c-4729-b25a-454c86d5ca33');\n",
              "          const dataTable =\n",
              "            await google.colab.kernel.invokeFunction('convertToInteractive',\n",
              "                                                     [key], {});\n",
              "          if (!dataTable) return;\n",
              "\n",
              "          const docLinkHtml = 'Like what you see? Visit the ' +\n",
              "            '<a target=\"_blank\" href=https://colab.research.google.com/notebooks/data_table.ipynb>data table notebook</a>'\n",
              "            + ' to learn more about interactive tables.';\n",
              "          element.innerHTML = '';\n",
              "          dataTable['output_type'] = 'display_data';\n",
              "          await google.colab.output.renderOutput(dataTable, element);\n",
              "          const docLink = document.createElement('div');\n",
              "          docLink.innerHTML = docLinkHtml;\n",
              "          element.appendChild(docLink);\n",
              "        }\n",
              "      </script>\n",
              "    </div>\n",
              "  </div>\n",
              "  "
            ]
          },
          "metadata": {},
          "execution_count": 9
        }
      ]
    },
    {
      "cell_type": "code",
      "source": [
        "X.index = X.index.tz_localize(None)\n",
        "X.index"
      ],
      "metadata": {
        "colab": {
          "base_uri": "https://localhost:8080/"
        },
        "id": "g4TEHuO6x09p",
        "outputId": "4a707cca-11c4-4175-da14-062d2893724d"
      },
      "execution_count": 11,
      "outputs": [
        {
          "output_type": "execute_result",
          "data": {
            "text/plain": [
              "DatetimeIndex(['2020-09-01', '2020-09-02', '2020-09-03', '2020-09-04',\n",
              "               '2020-09-07', '2020-09-08', '2020-09-09', '2020-09-10',\n",
              "               '2020-09-11', '2020-09-14', '2020-09-15', '2020-09-16',\n",
              "               '2020-09-17', '2020-09-18', '2020-09-21', '2020-09-22',\n",
              "               '2020-09-23', '2020-09-24', '2020-09-25', '2020-09-28',\n",
              "               '2020-09-29', '2020-09-30', '2020-10-01', '2020-10-02',\n",
              "               '2020-10-05', '2020-10-06', '2020-10-07', '2020-10-08',\n",
              "               '2020-10-09', '2020-10-12', '2020-10-13', '2020-10-14',\n",
              "               '2020-10-15', '2020-10-16', '2020-10-19', '2020-10-20',\n",
              "               '2020-10-21', '2020-10-22', '2020-10-23'],\n",
              "              dtype='datetime64[ns]', name='Date', freq='B')"
            ]
          },
          "metadata": {},
          "execution_count": 11
        }
      ]
    },
    {
      "cell_type": "code",
      "source": [
        "#Combine everything\n",
        "df = pd.concat([y, X], axis = 1 ).dropna()\n",
        "df"
      ],
      "metadata": {
        "id": "A_zj929Hx-cB"
      },
      "execution_count": null,
      "outputs": []
    },
    {
      "cell_type": "markdown",
      "source": [
        "###Data Analysis"
      ],
      "metadata": {
        "id": "Qgr8fecambux"
      }
    },
    {
      "cell_type": "code",
      "source": [
        "df_training = df[df.index <= training_end]\n",
        "df_training.tail(1)"
      ],
      "metadata": {
        "colab": {
          "base_uri": "https://localhost:8080/",
          "height": 112
        },
        "id": "dNEl4901yQgD",
        "outputId": "ba2a3bf7-f5a8-4cfd-9374-5a7cb71d3352"
      },
      "execution_count": 13,
      "outputs": [
        {
          "output_type": "execute_result",
          "data": {
            "text/plain": [
              "                       y        CRSP          DE       GOOG         JD  \\\n",
              "Date                                                                     \n",
              "2020-10-19  11742.037109  107.720001  232.015839  76.730499  78.626236   \n",
              "\n",
              "                 KTOS          SQ       TRMB  ZAL.DE  \n",
              "Date                                                  \n",
              "2020-10-19  20.639999  186.960007  51.970001    85.0  "
            ],
            "text/html": [
              "\n",
              "  <div id=\"df-a954831b-bc74-450f-8cda-c71a3353364b\">\n",
              "    <div class=\"colab-df-container\">\n",
              "      <div>\n",
              "<style scoped>\n",
              "    .dataframe tbody tr th:only-of-type {\n",
              "        vertical-align: middle;\n",
              "    }\n",
              "\n",
              "    .dataframe tbody tr th {\n",
              "        vertical-align: top;\n",
              "    }\n",
              "\n",
              "    .dataframe thead th {\n",
              "        text-align: right;\n",
              "    }\n",
              "</style>\n",
              "<table border=\"1\" class=\"dataframe\">\n",
              "  <thead>\n",
              "    <tr style=\"text-align: right;\">\n",
              "      <th></th>\n",
              "      <th>y</th>\n",
              "      <th>CRSP</th>\n",
              "      <th>DE</th>\n",
              "      <th>GOOG</th>\n",
              "      <th>JD</th>\n",
              "      <th>KTOS</th>\n",
              "      <th>SQ</th>\n",
              "      <th>TRMB</th>\n",
              "      <th>ZAL.DE</th>\n",
              "    </tr>\n",
              "    <tr>\n",
              "      <th>Date</th>\n",
              "      <th></th>\n",
              "      <th></th>\n",
              "      <th></th>\n",
              "      <th></th>\n",
              "      <th></th>\n",
              "      <th></th>\n",
              "      <th></th>\n",
              "      <th></th>\n",
              "      <th></th>\n",
              "    </tr>\n",
              "  </thead>\n",
              "  <tbody>\n",
              "    <tr>\n",
              "      <th>2020-10-19</th>\n",
              "      <td>11742.037109</td>\n",
              "      <td>107.720001</td>\n",
              "      <td>232.015839</td>\n",
              "      <td>76.730499</td>\n",
              "      <td>78.626236</td>\n",
              "      <td>20.639999</td>\n",
              "      <td>186.960007</td>\n",
              "      <td>51.970001</td>\n",
              "      <td>85.0</td>\n",
              "    </tr>\n",
              "  </tbody>\n",
              "</table>\n",
              "</div>\n",
              "      <button class=\"colab-df-convert\" onclick=\"convertToInteractive('df-a954831b-bc74-450f-8cda-c71a3353364b')\"\n",
              "              title=\"Convert this dataframe to an interactive table.\"\n",
              "              style=\"display:none;\">\n",
              "        \n",
              "  <svg xmlns=\"http://www.w3.org/2000/svg\" height=\"24px\"viewBox=\"0 0 24 24\"\n",
              "       width=\"24px\">\n",
              "    <path d=\"M0 0h24v24H0V0z\" fill=\"none\"/>\n",
              "    <path d=\"M18.56 5.44l.94 2.06.94-2.06 2.06-.94-2.06-.94-.94-2.06-.94 2.06-2.06.94zm-11 1L8.5 8.5l.94-2.06 2.06-.94-2.06-.94L8.5 2.5l-.94 2.06-2.06.94zm10 10l.94 2.06.94-2.06 2.06-.94-2.06-.94-.94-2.06-.94 2.06-2.06.94z\"/><path d=\"M17.41 7.96l-1.37-1.37c-.4-.4-.92-.59-1.43-.59-.52 0-1.04.2-1.43.59L10.3 9.45l-7.72 7.72c-.78.78-.78 2.05 0 2.83L4 21.41c.39.39.9.59 1.41.59.51 0 1.02-.2 1.41-.59l7.78-7.78 2.81-2.81c.8-.78.8-2.07 0-2.86zM5.41 20L4 18.59l7.72-7.72 1.47 1.35L5.41 20z\"/>\n",
              "  </svg>\n",
              "      </button>\n",
              "      \n",
              "  <style>\n",
              "    .colab-df-container {\n",
              "      display:flex;\n",
              "      flex-wrap:wrap;\n",
              "      gap: 12px;\n",
              "    }\n",
              "\n",
              "    .colab-df-convert {\n",
              "      background-color: #E8F0FE;\n",
              "      border: none;\n",
              "      border-radius: 50%;\n",
              "      cursor: pointer;\n",
              "      display: none;\n",
              "      fill: #1967D2;\n",
              "      height: 32px;\n",
              "      padding: 0 0 0 0;\n",
              "      width: 32px;\n",
              "    }\n",
              "\n",
              "    .colab-df-convert:hover {\n",
              "      background-color: #E2EBFA;\n",
              "      box-shadow: 0px 1px 2px rgba(60, 64, 67, 0.3), 0px 1px 3px 1px rgba(60, 64, 67, 0.15);\n",
              "      fill: #174EA6;\n",
              "    }\n",
              "\n",
              "    [theme=dark] .colab-df-convert {\n",
              "      background-color: #3B4455;\n",
              "      fill: #D2E3FC;\n",
              "    }\n",
              "\n",
              "    [theme=dark] .colab-df-convert:hover {\n",
              "      background-color: #434B5C;\n",
              "      box-shadow: 0px 1px 3px 1px rgba(0, 0, 0, 0.15);\n",
              "      filter: drop-shadow(0px 1px 2px rgba(0, 0, 0, 0.3));\n",
              "      fill: #FFFFFF;\n",
              "    }\n",
              "  </style>\n",
              "\n",
              "      <script>\n",
              "        const buttonEl =\n",
              "          document.querySelector('#df-a954831b-bc74-450f-8cda-c71a3353364b button.colab-df-convert');\n",
              "        buttonEl.style.display =\n",
              "          google.colab.kernel.accessAllowed ? 'block' : 'none';\n",
              "\n",
              "        async function convertToInteractive(key) {\n",
              "          const element = document.querySelector('#df-a954831b-bc74-450f-8cda-c71a3353364b');\n",
              "          const dataTable =\n",
              "            await google.colab.kernel.invokeFunction('convertToInteractive',\n",
              "                                                     [key], {});\n",
              "          if (!dataTable) return;\n",
              "\n",
              "          const docLinkHtml = 'Like what you see? Visit the ' +\n",
              "            '<a target=\"_blank\" href=https://colab.research.google.com/notebooks/data_table.ipynb>data table notebook</a>'\n",
              "            + ' to learn more about interactive tables.';\n",
              "          element.innerHTML = '';\n",
              "          dataTable['output_type'] = 'display_data';\n",
              "          await google.colab.output.renderOutput(dataTable, element);\n",
              "          const docLink = document.createElement('div');\n",
              "          docLink.innerHTML = docLinkHtml;\n",
              "          element.appendChild(docLink);\n",
              "        }\n",
              "      </script>\n",
              "    </div>\n",
              "  </div>\n",
              "  "
            ]
          },
          "metadata": {},
          "execution_count": 13
        }
      ]
    },
    {
      "cell_type": "markdown",
      "source": [
        "#### Stationarity \n",
        "\n",
        "Two series could be correlated just because they are both growing or both going down. \n",
        "What we are interested are the patterns that are stationary.\n",
        "\n",
        "Differencing -> Stationary Data (with constant mean, variance, covariance)"
      ],
      "metadata": {
        "id": "Mz1IHP2xnLyE"
      }
    },
    {
      "cell_type": "code",
      "source": [
        "from statsmodels.tsa.stattools import adfuller\n",
        "test = adfuller(x = df_training.y)[1]\n",
        "print(test)\n",
        "if test < 0.05:\n",
        "  print(\"The time serie is stationary\")\n",
        "else:\n",
        "  print(\"The time serie is NOT stationary\")"
      ],
      "metadata": {
        "colab": {
          "base_uri": "https://localhost:8080/"
        },
        "id": "TQUtuMIgmzCI",
        "outputId": "c023307b-1a55-48bd-a015-f24ccd4e9c56"
      },
      "execution_count": 14,
      "outputs": [
        {
          "output_type": "stream",
          "name": "stdout",
          "text": [
            "0.0987470320882271\n",
            "The time serie is NOT stationary\n"
          ]
        }
      ]
    },
    {
      "cell_type": "code",
      "source": [
        "#differencing : substract or divide\n",
        "differencing = df_training.pct_change().dropna()\n",
        "differencing.head(2)"
      ],
      "metadata": {
        "colab": {
          "base_uri": "https://localhost:8080/",
          "height": 143
        },
        "id": "XlbA5bvcoYCT",
        "outputId": "5e4be4f6-1b7e-4c19-9696-3c6eae0a6a03"
      },
      "execution_count": 15,
      "outputs": [
        {
          "output_type": "execute_result",
          "data": {
            "text/plain": [
              "                   y      CRSP        DE      GOOG        JD      KTOS  \\\n",
              "Date                                                                     \n",
              "2020-09-02 -0.046485  0.005459 -0.002664  0.040687  0.008728  0.010660   \n",
              "2020-09-03 -0.102395 -0.087725 -0.029018 -0.050015 -0.050114 -0.019588   \n",
              "\n",
              "                  SQ      TRMB    ZAL.DE  \n",
              "Date                                      \n",
              "2020-09-02 -0.022681  0.016851  0.000000  \n",
              "2020-09-03 -0.061518 -0.062788 -0.024935  "
            ],
            "text/html": [
              "\n",
              "  <div id=\"df-68f5b5f4-9f78-4847-b46e-2144352dce67\">\n",
              "    <div class=\"colab-df-container\">\n",
              "      <div>\n",
              "<style scoped>\n",
              "    .dataframe tbody tr th:only-of-type {\n",
              "        vertical-align: middle;\n",
              "    }\n",
              "\n",
              "    .dataframe tbody tr th {\n",
              "        vertical-align: top;\n",
              "    }\n",
              "\n",
              "    .dataframe thead th {\n",
              "        text-align: right;\n",
              "    }\n",
              "</style>\n",
              "<table border=\"1\" class=\"dataframe\">\n",
              "  <thead>\n",
              "    <tr style=\"text-align: right;\">\n",
              "      <th></th>\n",
              "      <th>y</th>\n",
              "      <th>CRSP</th>\n",
              "      <th>DE</th>\n",
              "      <th>GOOG</th>\n",
              "      <th>JD</th>\n",
              "      <th>KTOS</th>\n",
              "      <th>SQ</th>\n",
              "      <th>TRMB</th>\n",
              "      <th>ZAL.DE</th>\n",
              "    </tr>\n",
              "    <tr>\n",
              "      <th>Date</th>\n",
              "      <th></th>\n",
              "      <th></th>\n",
              "      <th></th>\n",
              "      <th></th>\n",
              "      <th></th>\n",
              "      <th></th>\n",
              "      <th></th>\n",
              "      <th></th>\n",
              "      <th></th>\n",
              "    </tr>\n",
              "  </thead>\n",
              "  <tbody>\n",
              "    <tr>\n",
              "      <th>2020-09-02</th>\n",
              "      <td>-0.046485</td>\n",
              "      <td>0.005459</td>\n",
              "      <td>-0.002664</td>\n",
              "      <td>0.040687</td>\n",
              "      <td>0.008728</td>\n",
              "      <td>0.010660</td>\n",
              "      <td>-0.022681</td>\n",
              "      <td>0.016851</td>\n",
              "      <td>0.000000</td>\n",
              "    </tr>\n",
              "    <tr>\n",
              "      <th>2020-09-03</th>\n",
              "      <td>-0.102395</td>\n",
              "      <td>-0.087725</td>\n",
              "      <td>-0.029018</td>\n",
              "      <td>-0.050015</td>\n",
              "      <td>-0.050114</td>\n",
              "      <td>-0.019588</td>\n",
              "      <td>-0.061518</td>\n",
              "      <td>-0.062788</td>\n",
              "      <td>-0.024935</td>\n",
              "    </tr>\n",
              "  </tbody>\n",
              "</table>\n",
              "</div>\n",
              "      <button class=\"colab-df-convert\" onclick=\"convertToInteractive('df-68f5b5f4-9f78-4847-b46e-2144352dce67')\"\n",
              "              title=\"Convert this dataframe to an interactive table.\"\n",
              "              style=\"display:none;\">\n",
              "        \n",
              "  <svg xmlns=\"http://www.w3.org/2000/svg\" height=\"24px\"viewBox=\"0 0 24 24\"\n",
              "       width=\"24px\">\n",
              "    <path d=\"M0 0h24v24H0V0z\" fill=\"none\"/>\n",
              "    <path d=\"M18.56 5.44l.94 2.06.94-2.06 2.06-.94-2.06-.94-.94-2.06-.94 2.06-2.06.94zm-11 1L8.5 8.5l.94-2.06 2.06-.94-2.06-.94L8.5 2.5l-.94 2.06-2.06.94zm10 10l.94 2.06.94-2.06 2.06-.94-2.06-.94-.94-2.06-.94 2.06-2.06.94z\"/><path d=\"M17.41 7.96l-1.37-1.37c-.4-.4-.92-.59-1.43-.59-.52 0-1.04.2-1.43.59L10.3 9.45l-7.72 7.72c-.78.78-.78 2.05 0 2.83L4 21.41c.39.39.9.59 1.41.59.51 0 1.02-.2 1.41-.59l7.78-7.78 2.81-2.81c.8-.78.8-2.07 0-2.86zM5.41 20L4 18.59l7.72-7.72 1.47 1.35L5.41 20z\"/>\n",
              "  </svg>\n",
              "      </button>\n",
              "      \n",
              "  <style>\n",
              "    .colab-df-container {\n",
              "      display:flex;\n",
              "      flex-wrap:wrap;\n",
              "      gap: 12px;\n",
              "    }\n",
              "\n",
              "    .colab-df-convert {\n",
              "      background-color: #E8F0FE;\n",
              "      border: none;\n",
              "      border-radius: 50%;\n",
              "      cursor: pointer;\n",
              "      display: none;\n",
              "      fill: #1967D2;\n",
              "      height: 32px;\n",
              "      padding: 0 0 0 0;\n",
              "      width: 32px;\n",
              "    }\n",
              "\n",
              "    .colab-df-convert:hover {\n",
              "      background-color: #E2EBFA;\n",
              "      box-shadow: 0px 1px 2px rgba(60, 64, 67, 0.3), 0px 1px 3px 1px rgba(60, 64, 67, 0.15);\n",
              "      fill: #174EA6;\n",
              "    }\n",
              "\n",
              "    [theme=dark] .colab-df-convert {\n",
              "      background-color: #3B4455;\n",
              "      fill: #D2E3FC;\n",
              "    }\n",
              "\n",
              "    [theme=dark] .colab-df-convert:hover {\n",
              "      background-color: #434B5C;\n",
              "      box-shadow: 0px 1px 3px 1px rgba(0, 0, 0, 0.15);\n",
              "      filter: drop-shadow(0px 1px 2px rgba(0, 0, 0, 0.3));\n",
              "      fill: #FFFFFF;\n",
              "    }\n",
              "  </style>\n",
              "\n",
              "      <script>\n",
              "        const buttonEl =\n",
              "          document.querySelector('#df-68f5b5f4-9f78-4847-b46e-2144352dce67 button.colab-df-convert');\n",
              "        buttonEl.style.display =\n",
              "          google.colab.kernel.accessAllowed ? 'block' : 'none';\n",
              "\n",
              "        async function convertToInteractive(key) {\n",
              "          const element = document.querySelector('#df-68f5b5f4-9f78-4847-b46e-2144352dce67');\n",
              "          const dataTable =\n",
              "            await google.colab.kernel.invokeFunction('convertToInteractive',\n",
              "                                                     [key], {});\n",
              "          if (!dataTable) return;\n",
              "\n",
              "          const docLinkHtml = 'Like what you see? Visit the ' +\n",
              "            '<a target=\"_blank\" href=https://colab.research.google.com/notebooks/data_table.ipynb>data table notebook</a>'\n",
              "            + ' to learn more about interactive tables.';\n",
              "          element.innerHTML = '';\n",
              "          dataTable['output_type'] = 'display_data';\n",
              "          await google.colab.output.renderOutput(dataTable, element);\n",
              "          const docLink = document.createElement('div');\n",
              "          docLink.innerHTML = docLinkHtml;\n",
              "          element.appendChild(docLink);\n",
              "        }\n",
              "      </script>\n",
              "    </div>\n",
              "  </div>\n",
              "  "
            ]
          },
          "metadata": {},
          "execution_count": 15
        }
      ]
    },
    {
      "cell_type": "code",
      "source": [
        "test = adfuller(x = differencing.y)[1]\n",
        "print(test)\n",
        "if test < 0.05:\n",
        "  print(\"The time serie is stationary\")\n",
        "else:\n",
        "  print(\"The time serie is NOT stationary\")"
      ],
      "metadata": {
        "colab": {
          "base_uri": "https://localhost:8080/"
        },
        "id": "0KMaMWVcpL_I",
        "outputId": "1b7d4b28-8d4b-4f5b-cfa2-bb6ac5fc68f7"
      },
      "execution_count": 16,
      "outputs": [
        {
          "output_type": "stream",
          "name": "stdout",
          "text": [
            "3.8054323617260893e-07\n",
            "The time serie is stationary\n"
          ]
        }
      ]
    },
    {
      "cell_type": "code",
      "source": [
        "#Correlation Matrix : finding a similar control group\n",
        "plt.figure(figsize=(8,6))\n",
        "sns.set(font_scale = 1.2)\n",
        "sns.heatmap(differencing.corr(),\n",
        "            annot = True,\n",
        "            fmt = '.1g',\n",
        "            cmap = 'YlOrBr',\n",
        "            center = True,\n",
        "            linewidth = 2)"
      ],
      "metadata": {
        "colab": {
          "base_uri": "https://localhost:8080/",
          "height": 438
        },
        "id": "-FVAeUfGpUYZ",
        "outputId": "a8853997-1fbe-4839-a84c-7d564a11a104"
      },
      "execution_count": 17,
      "outputs": [
        {
          "output_type": "execute_result",
          "data": {
            "text/plain": [
              "<Axes: >"
            ]
          },
          "metadata": {},
          "execution_count": 17
        },
        {
          "output_type": "display_data",
          "data": {
            "text/plain": [
              "<Figure size 576x432 with 2 Axes>"
            ],
            "image/png": "[encoded data removed]"
          },
          "metadata": {
            "needs_background": "light"
          }
        }
      ]
    },
    {
      "cell_type": "code",
      "source": [
        "# removing the ZAL.DE that is not correlated at all\n",
        "df_final = df.drop(columns = [\"ZAL.DE\"])\n",
        "df_final.head(1)"
      ],
      "metadata": {
        "colab": {
          "base_uri": "https://localhost:8080/",
          "height": 112
        },
        "id": "Pdf2y3mhpxqM",
        "outputId": "74832bcc-cb05-4958-88a8-383d2bb4f76e"
      },
      "execution_count": 18,
      "outputs": [
        {
          "output_type": "execute_result",
          "data": {
            "text/plain": [
              "                       y       CRSP          DE     GOOG         JD  \\\n",
              "Date                                                                  \n",
              "2020-09-01  11970.478516  93.419998  211.338715  83.0355  80.459969   \n",
              "\n",
              "                 KTOS          SQ   TRMB  \n",
              "Date                                      \n",
              "2020-09-01  19.700001  166.660004  53.41  "
            ],
            "text/html": [
              "\n",
              "  <div id=\"df-6cde256f-aa6e-488d-914a-7fb303634897\">\n",
              "    <div class=\"colab-df-container\">\n",
              "      <div>\n",
              "<style scoped>\n",
              "    .dataframe tbody tr th:only-of-type {\n",
              "        vertical-align: middle;\n",
              "    }\n",
              "\n",
              "    .dataframe tbody tr th {\n",
              "        vertical-align: top;\n",
              "    }\n",
              "\n",
              "    .dataframe thead th {\n",
              "        text-align: right;\n",
              "    }\n",
              "</style>\n",
              "<table border=\"1\" class=\"dataframe\">\n",
              "  <thead>\n",
              "    <tr style=\"text-align: right;\">\n",
              "      <th></th>\n",
              "      <th>y</th>\n",
              "      <th>CRSP</th>\n",
              "      <th>DE</th>\n",
              "      <th>GOOG</th>\n",
              "      <th>JD</th>\n",
              "      <th>KTOS</th>\n",
              "      <th>SQ</th>\n",
              "      <th>TRMB</th>\n",
              "    </tr>\n",
              "    <tr>\n",
              "      <th>Date</th>\n",
              "      <th></th>\n",
              "      <th></th>\n",
              "      <th></th>\n",
              "      <th></th>\n",
              "      <th></th>\n",
              "      <th></th>\n",
              "      <th></th>\n",
              "      <th></th>\n",
              "    </tr>\n",
              "  </thead>\n",
              "  <tbody>\n",
              "    <tr>\n",
              "      <th>2020-09-01</th>\n",
              "      <td>11970.478516</td>\n",
              "      <td>93.419998</td>\n",
              "      <td>211.338715</td>\n",
              "      <td>83.0355</td>\n",
              "      <td>80.459969</td>\n",
              "      <td>19.700001</td>\n",
              "      <td>166.660004</td>\n",
              "      <td>53.41</td>\n",
              "    </tr>\n",
              "  </tbody>\n",
              "</table>\n",
              "</div>\n",
              "      <button class=\"colab-df-convert\" onclick=\"convertToInteractive('df-6cde256f-aa6e-488d-914a-7fb303634897')\"\n",
              "              title=\"Convert this dataframe to an interactive table.\"\n",
              "              style=\"display:none;\">\n",
              "        \n",
              "  <svg xmlns=\"http://www.w3.org/2000/svg\" height=\"24px\"viewBox=\"0 0 24 24\"\n",
              "       width=\"24px\">\n",
              "    <path d=\"M0 0h24v24H0V0z\" fill=\"none\"/>\n",
              "    <path d=\"M18.56 5.44l.94 2.06.94-2.06 2.06-.94-2.06-.94-.94-2.06-.94 2.06-2.06.94zm-11 1L8.5 8.5l.94-2.06 2.06-.94-2.06-.94L8.5 2.5l-.94 2.06-2.06.94zm10 10l.94 2.06.94-2.06 2.06-.94-2.06-.94-.94-2.06-.94 2.06-2.06.94z\"/><path d=\"M17.41 7.96l-1.37-1.37c-.4-.4-.92-.59-1.43-.59-.52 0-1.04.2-1.43.59L10.3 9.45l-7.72 7.72c-.78.78-.78 2.05 0 2.83L4 21.41c.39.39.9.59 1.41.59.51 0 1.02-.2 1.41-.59l7.78-7.78 2.81-2.81c.8-.78.8-2.07 0-2.86zM5.41 20L4 18.59l7.72-7.72 1.47 1.35L5.41 20z\"/>\n",
              "  </svg>\n",
              "      </button>\n",
              "      \n",
              "  <style>\n",
              "    .colab-df-container {\n",
              "      display:flex;\n",
              "      flex-wrap:wrap;\n",
              "      gap: 12px;\n",
              "    }\n",
              "\n",
              "    .colab-df-convert {\n",
              "      background-color: #E8F0FE;\n",
              "      border: none;\n",
              "      border-radius: 50%;\n",
              "      cursor: pointer;\n",
              "      display: none;\n",
              "      fill: #1967D2;\n",
              "      height: 32px;\n",
              "      padding: 0 0 0 0;\n",
              "      width: 32px;\n",
              "    }\n",
              "\n",
              "    .colab-df-convert:hover {\n",
              "      background-color: #E2EBFA;\n",
              "      box-shadow: 0px 1px 2px rgba(60, 64, 67, 0.3), 0px 1px 3px 1px rgba(60, 64, 67, 0.15);\n",
              "      fill: #174EA6;\n",
              "    }\n",
              "\n",
              "    [theme=dark] .colab-df-convert {\n",
              "      background-color: #3B4455;\n",
              "      fill: #D2E3FC;\n",
              "    }\n",
              "\n",
              "    [theme=dark] .colab-df-convert:hover {\n",
              "      background-color: #434B5C;\n",
              "      box-shadow: 0px 1px 3px 1px rgba(0, 0, 0, 0.15);\n",
              "      filter: drop-shadow(0px 1px 2px rgba(0, 0, 0, 0.3));\n",
              "      fill: #FFFFFF;\n",
              "    }\n",
              "  </style>\n",
              "\n",
              "      <script>\n",
              "        const buttonEl =\n",
              "          document.querySelector('#df-6cde256f-aa6e-488d-914a-7fb303634897 button.colab-df-convert');\n",
              "        buttonEl.style.display =\n",
              "          google.colab.kernel.accessAllowed ? 'block' : 'none';\n",
              "\n",
              "        async function convertToInteractive(key) {\n",
              "          const element = document.querySelector('#df-6cde256f-aa6e-488d-914a-7fb303634897');\n",
              "          const dataTable =\n",
              "            await google.colab.kernel.invokeFunction('convertToInteractive',\n",
              "                                                     [key], {});\n",
              "          if (!dataTable) return;\n",
              "\n",
              "          const docLinkHtml = 'Like what you see? Visit the ' +\n",
              "            '<a target=\"_blank\" href=https://colab.research.google.com/notebooks/data_table.ipynb>data table notebook</a>'\n",
              "            + ' to learn more about interactive tables.';\n",
              "          element.innerHTML = '';\n",
              "          dataTable['output_type'] = 'display_data';\n",
              "          await google.colab.output.renderOutput(dataTable, element);\n",
              "          const docLink = document.createElement('div');\n",
              "          docLink.innerHTML = docLinkHtml;\n",
              "          element.appendChild(docLink);\n",
              "        }\n",
              "      </script>\n",
              "    </div>\n",
              "  </div>\n",
              "  "
            ]
          },
          "metadata": {},
          "execution_count": 18
        }
      ]
    },
    {
      "cell_type": "markdown",
      "source": [
        "###Causal Impact"
      ],
      "metadata": {
        "id": "W3TJRPMzvGKW"
      }
    },
    {
      "cell_type": "code",
      "source": [
        "pre_period = [training_start, training_end]\n",
        "post_period = [treatment_start, treatment_end]"
      ],
      "metadata": {
        "id": "5AEKTu3grWrO"
      },
      "execution_count": 19,
      "outputs": []
    },
    {
      "cell_type": "code",
      "source": [
        "impact = CausalImpact(data = df_final, \n",
        "                      pre_period = pre_period, \n",
        "                      post_period = post_period)\n",
        "impact.plot()"
      ],
      "metadata": {
        "colab": {
          "base_uri": "https://localhost:8080/",
          "height": 687
        },
        "id": "JjhaXzbXvoag",
        "outputId": "32025a59-e934-45bc-b335-e2368402f14d"
      },
      "execution_count": 20,
      "outputs": [
        {
          "output_type": "stream",
          "name": "stderr",
          "text": [
            "WARNING:tensorflow:From /usr/local/lib/python3.9/dist-packages/tensorflow_probability/python/internal/batched_rejection_sampler.py:102: calling while_loop_v2 (from tensorflow.python.ops.control_flow_ops) with back_prop=False is deprecated and will be removed in a future version.\n",
            "Instructions for updating:\n",
            "back_prop=False is deprecated. Consider using tf.stop_gradient instead.\n",
            "Instead of:\n",
            "results = tf.while_loop(c, b, vars, back_prop=False)\n",
            "Use:\n",
            "results = tf.nest.map_structure(tf.stop_gradient, tf.while_loop(c, b, vars))\n",
            "WARNING:tensorflow:From /usr/local/lib/python3.9/dist-packages/tensorflow/python/autograph/impl/api.py:458: StructuralTimeSeries.joint_log_prob (from tensorflow_probability.python.sts.structural_time_series) is deprecated and will be removed after 2022-03-01.\n",
            "Instructions for updating:\n",
            "Please use `StructuralTimeSeries.joint_distribution(observed_time_series).log_prob`\n",
            "WARNING:tensorflow:From /usr/local/lib/python3.9/dist-packages/causalimpact/model.py:408: calling one_step_predictive (from tensorflow_probability.python.sts.forecast) with timesteps_are_event_shape=True is deprecated and will be removed after 2021-12-31.\n",
            "Instructions for updating:\n",
            "`Predictive distributions returned by`tfp.sts.one_step_predictive` will soon compute per-timestep probabilities (treating timesteps as part of the batch shape) instead of a single probability for an entire series (the current approach, in which timesteps are treated as event shape). Please update your code to pass `timesteps_are_event_shape=False` (this will soon be the default) and to explicitly sum over the per-timestep log probabilities if this is required.\n"
          ]
        },
        {
          "output_type": "display_data",
          "data": {
            "text/plain": [
              "<Figure size 720x504 with 3 Axes>"
            ],
            "image/png": "[encoded data removed]"
          },
          "metadata": {}
        }
      ]
    },
    {
      "cell_type": "code",
      "source": [
        "# Impact greater in the beginning\n",
        "# Impact gradually increases\n",
        "# Impact stabilizes a few days after"
      ],
      "metadata": {
        "id": "ObxCBub3wOmE"
      },
      "execution_count": 21,
      "outputs": []
    },
    {
      "cell_type": "code",
      "source": [
        "print(impact.summary())"
      ],
      "metadata": {
        "colab": {
          "base_uri": "https://localhost:8080/"
        },
        "id": "B-OdMfLXxVHL",
        "outputId": "c0ebf9ae-d3b0-430a-e89d-8eb7c092b397"
      },
      "execution_count": 22,
      "outputs": [
        {
          "output_type": "stream",
          "name": "stdout",
          "text": [
            "Posterior Inference {Causal Impact}\n",
            "                          Average            Cumulative\n",
            "Actual                    12659.36           50637.45\n",
            "Prediction (s.d.)         11002.36 (198.0)   44009.46 (792.0)\n",
            "95% CI                    [10596.56, 11372.71][42386.25, 45490.84]\n",
            "\n",
            "Absolute effect (s.d.)    1657.0 (198.0)     6628.0 (792.0)\n",
            "95% CI                    [1286.65, 2062.8]  [5146.61, 8251.21]\n",
            "\n",
            "Relative effect (s.d.)    15.06% (1.8%)      15.06% (1.8%)\n",
            "95% CI                    [11.69%, 18.75%]   [11.69%, 18.75%]\n",
            "\n",
            "Posterior tail-area probability p: 0.0\n",
            "Posterior prob. of a causal effect: 100.0%\n",
            "\n",
            "For more details run the command: print(impact.summary('report'))\n"
          ]
        }
      ]
    },
    {
      "cell_type": "code",
      "source": [
        "print(impact.summary('report'))"
      ],
      "metadata": {
        "colab": {
          "base_uri": "https://localhost:8080/"
        },
        "id": "PeNzix3cxe5T",
        "outputId": "6e0811c8-d9a7-4f04-f8d6-f70227674575"
      },
      "execution_count": 23,
      "outputs": [
        {
          "output_type": "stream",
          "name": "stdout",
          "text": [
            "Analysis report {CausalImpact}\n",
            "\n",
            "\n",
            "During the post-intervention period, the response variable had\n",
            "an average value of approx. 12659.36. By contrast, in the absence of an\n",
            "intervention, we would have expected an average response of 11002.36.\n",
            "The 95% interval of this counterfactual prediction is [10596.56, 11372.71].\n",
            "Subtracting this prediction from the observed response yields\n",
            "an estimate of the causal effect the intervention had on the\n",
            "response variable. This effect is 1657.0 with a 95% interval of\n",
            "[1286.65, 2062.8]. For a discussion of the significance of this effect,\n",
            "see below.\n",
            "\n",
            "\n",
            "Summing up the individual data points during the post-intervention\n",
            "period (which can only sometimes be meaningfully interpreted), the\n",
            "response variable had an overall value of 50637.45.\n",
            "By contrast, had the intervention not taken place, we would have expected\n",
            "a sum of 44009.46. The 95% interval of this prediction is [42386.25, 45490.84].\n",
            "\n",
            "\n",
            "The above results are given in terms of absolute numbers. In relative\n",
            "terms, the response variable showed an increase of +15.06%. The 95%\n",
            "interval of this percentage is [11.69%, 18.75%].\n",
            "\n",
            "\n",
            "This means that the positive effect observed during the intervention\n",
            "period is statistically significant and unlikely to be due to random\n",
            "fluctuations. It should be noted, however, that the question of whether\n",
            "this increase also bears substantive significance can only be answered\n",
            "by comparing the absolute effect (1657.0) to the original goal\n",
            "of the underlying intervention.\n",
            "\n",
            "\n",
            "The probability of obtaining this effect by chance is very small\n",
            "(Bayesian one-sided tail-area probability p = 0.0).\n",
            "This means the causal effect can be considered statistically\n",
            "significant.\n"
          ]
        }
      ]
    },
    {
      "cell_type": "markdown",
      "source": [
        "## Matching\n",
        "\n",
        "* There is no comparable control group, so we have to create one.\n",
        "* Beware of (self-)selection bias\n",
        "* Create a counter group with similar characteristics to the treatment group"
      ],
      "metadata": {
        "id": "3oUnFVXvyhTe"
      }
    },
    {
      "cell_type": "code",
      "source": [
        "%cd /content/drive/MyDrive/Business Analyst course/Econometrics and Causal Inference/Matching"
      ],
      "metadata": {
        "colab": {
          "base_uri": "https://localhost:8080/"
        },
        "id": "NmME8JityM-4",
        "outputId": "78e9a0c9-4f8d-437f-f924-e30a040581cb"
      },
      "execution_count": 24,
      "outputs": [
        {
          "output_type": "stream",
          "name": "stdout",
          "text": [
            "/content/drive/MyDrive/Business Analyst course/Econometrics and Causal Inference/Matching\n"
          ]
        }
      ]
    },
    {
      "cell_type": "code",
      "source": [
        "df = pd.read_csv(\"school.csv\")"
      ],
      "metadata": {
        "id": "GPKJJmYZ1Gs6"
      },
      "execution_count": 58,
      "outputs": []
    },
    {
      "cell_type": "code",
      "source": [
        "df.head(2)"
      ],
      "metadata": {
        "colab": {
          "base_uri": "https://localhost:8080/",
          "height": 226
        },
        "id": "wlt99l3z1L8y",
        "outputId": "7ffdbd99-b6f9-47fe-b176-f9cff1d25add"
      },
      "execution_count": 59,
      "outputs": [
        {
          "output_type": "execute_result",
          "data": {
            "text/plain": [
              "    childid  catholic                 race  number_places_lived  mom_age  \\\n",
              "0  0001002C         0  WHITE, NON-HISPANIC                    1       47   \n",
              "1  0001004C         0  WHITE, NON-HISPANIC                    1       41   \n",
              "\n",
              "   dad_age                     dad_education  \\\n",
              "0       45  DOCTORATE OR PROFESSIONAL DEGREE   \n",
              "1       48                 BACHELOR'S DEGREE   \n",
              "\n",
              "                            mom_education  mom_score  dad_score   income  \\\n",
              "0                            SOME COLLEGE      53.50       77.5  62500.5   \n",
              "1  GRADUATE/PROFESSIONAL SCHOOL-NO DEGREE      34.95       53.5  45000.5   \n",
              "\n",
              "   poverty  food_stamps  score_standardized  \n",
              "0        0            0            0.981753  \n",
              "1        0            0            0.594378  "
            ],
            "text/html": [
              "\n",
              "  <div id=\"df-0e221062-108a-435f-82f9-c87d9268aae3\">\n",
              "    <div class=\"colab-df-container\">\n",
              "      <div>\n",
              "<style scoped>\n",
              "    .dataframe tbody tr th:only-of-type {\n",
              "        vertical-align: middle;\n",
              "    }\n",
              "\n",
              "    .dataframe tbody tr th {\n",
              "        vertical-align: top;\n",
              "    }\n",
              "\n",
              "    .dataframe thead th {\n",
              "        text-align: right;\n",
              "    }\n",
              "</style>\n",
              "<table border=\"1\" class=\"dataframe\">\n",
              "  <thead>\n",
              "    <tr style=\"text-align: right;\">\n",
              "      <th></th>\n",
              "      <th>childid</th>\n",
              "      <th>catholic</th>\n",
              "      <th>race</th>\n",
              "      <th>number_places_lived</th>\n",
              "      <th>mom_age</th>\n",
              "      <th>dad_age</th>\n",
              "      <th>dad_education</th>\n",
              "      <th>mom_education</th>\n",
              "      <th>mom_score</th>\n",
              "      <th>dad_score</th>\n",
              "      <th>income</th>\n",
              "      <th>poverty</th>\n",
              "      <th>food_stamps</th>\n",
              "      <th>score_standardized</th>\n",
              "    </tr>\n",
              "  </thead>\n",
              "  <tbody>\n",
              "    <tr>\n",
              "      <th>0</th>\n",
              "      <td>0001002C</td>\n",
              "      <td>0</td>\n",
              "      <td>WHITE, NON-HISPANIC</td>\n",
              "      <td>1</td>\n",
              "      <td>47</td>\n",
              "      <td>45</td>\n",
              "      <td>DOCTORATE OR PROFESSIONAL DEGREE</td>\n",
              "      <td>SOME COLLEGE</td>\n",
              "      <td>53.50</td>\n",
              "      <td>77.5</td>\n",
              "      <td>62500.5</td>\n",
              "      <td>0</td>\n",
              "      <td>0</td>\n",
              "      <td>0.981753</td>\n",
              "    </tr>\n",
              "    <tr>\n",
              "      <th>1</th>\n",
              "      <td>0001004C</td>\n",
              "      <td>0</td>\n",
              "      <td>WHITE, NON-HISPANIC</td>\n",
              "      <td>1</td>\n",
              "      <td>41</td>\n",
              "      <td>48</td>\n",
              "      <td>BACHELOR'S DEGREE</td>\n",
              "      <td>GRADUATE/PROFESSIONAL SCHOOL-NO DEGREE</td>\n",
              "      <td>34.95</td>\n",
              "      <td>53.5</td>\n",
              "      <td>45000.5</td>\n",
              "      <td>0</td>\n",
              "      <td>0</td>\n",
              "      <td>0.594378</td>\n",
              "    </tr>\n",
              "  </tbody>\n",
              "</table>\n",
              "</div>\n",
              "      <button class=\"colab-df-convert\" onclick=\"convertToInteractive('df-0e221062-108a-435f-82f9-c87d9268aae3')\"\n",
              "              title=\"Convert this dataframe to an interactive table.\"\n",
              "              style=\"display:none;\">\n",
              "        \n",
              "  <svg xmlns=\"http://www.w3.org/2000/svg\" height=\"24px\"viewBox=\"0 0 24 24\"\n",
              "       width=\"24px\">\n",
              "    <path d=\"M0 0h24v24H0V0z\" fill=\"none\"/>\n",
              "    <path d=\"M18.56 5.44l.94 2.06.94-2.06 2.06-.94-2.06-.94-.94-2.06-.94 2.06-2.06.94zm-11 1L8.5 8.5l.94-2.06 2.06-.94-2.06-.94L8.5 2.5l-.94 2.06-2.06.94zm10 10l.94 2.06.94-2.06 2.06-.94-2.06-.94-.94-2.06-.94 2.06-2.06.94z\"/><path d=\"M17.41 7.96l-1.37-1.37c-.4-.4-.92-.59-1.43-.59-.52 0-1.04.2-1.43.59L10.3 9.45l-7.72 7.72c-.78.78-.78 2.05 0 2.83L4 21.41c.39.39.9.59 1.41.59.51 0 1.02-.2 1.41-.59l7.78-7.78 2.81-2.81c.8-.78.8-2.07 0-2.86zM5.41 20L4 18.59l7.72-7.72 1.47 1.35L5.41 20z\"/>\n",
              "  </svg>\n",
              "      </button>\n",
              "      \n",
              "  <style>\n",
              "    .colab-df-container {\n",
              "      display:flex;\n",
              "      flex-wrap:wrap;\n",
              "      gap: 12px;\n",
              "    }\n",
              "\n",
              "    .colab-df-convert {\n",
              "      background-color: #E8F0FE;\n",
              "      border: none;\n",
              "      border-radius: 50%;\n",
              "      cursor: pointer;\n",
              "      display: none;\n",
              "      fill: #1967D2;\n",
              "      height: 32px;\n",
              "      padding: 0 0 0 0;\n",
              "      width: 32px;\n",
              "    }\n",
              "\n",
              "    .colab-df-convert:hover {\n",
              "      background-color: #E2EBFA;\n",
              "      box-shadow: 0px 1px 2px rgba(60, 64, 67, 0.3), 0px 1px 3px 1px rgba(60, 64, 67, 0.15);\n",
              "      fill: #174EA6;\n",
              "    }\n",
              "\n",
              "    [theme=dark] .colab-df-convert {\n",
              "      background-color: #3B4455;\n",
              "      fill: #D2E3FC;\n",
              "    }\n",
              "\n",
              "    [theme=dark] .colab-df-convert:hover {\n",
              "      background-color: #434B5C;\n",
              "      box-shadow: 0px 1px 3px 1px rgba(0, 0, 0, 0.15);\n",
              "      filter: drop-shadow(0px 1px 2px rgba(0, 0, 0, 0.3));\n",
              "      fill: #FFFFFF;\n",
              "    }\n",
              "  </style>\n",
              "\n",
              "      <script>\n",
              "        const buttonEl =\n",
              "          document.querySelector('#df-0e221062-108a-435f-82f9-c87d9268aae3 button.colab-df-convert');\n",
              "        buttonEl.style.display =\n",
              "          google.colab.kernel.accessAllowed ? 'block' : 'none';\n",
              "\n",
              "        async function convertToInteractive(key) {\n",
              "          const element = document.querySelector('#df-0e221062-108a-435f-82f9-c87d9268aae3');\n",
              "          const dataTable =\n",
              "            await google.colab.kernel.invokeFunction('convertToInteractive',\n",
              "                                                     [key], {});\n",
              "          if (!dataTable) return;\n",
              "\n",
              "          const docLinkHtml = 'Like what you see? Visit the ' +\n",
              "            '<a target=\"_blank\" href=https://colab.research.google.com/notebooks/data_table.ipynb>data table notebook</a>'\n",
              "            + ' to learn more about interactive tables.';\n",
              "          element.innerHTML = '';\n",
              "          dataTable['output_type'] = 'display_data';\n",
              "          await google.colab.output.renderOutput(dataTable, element);\n",
              "          const docLink = document.createElement('div');\n",
              "          docLink.innerHTML = docLinkHtml;\n",
              "          element.appendChild(docLink);\n",
              "        }\n",
              "      </script>\n",
              "    </div>\n",
              "  </div>\n",
              "  "
            ]
          },
          "metadata": {},
          "execution_count": 59
        }
      ]
    },
    {
      "cell_type": "code",
      "source": [
        "!pip install CausalInference"
      ],
      "metadata": {
        "colab": {
          "base_uri": "https://localhost:8080/"
        },
        "id": "KYAFOFEJ1NLK",
        "outputId": "4a30c952-872e-4fb0-cf2f-19968b8f67a1"
      },
      "execution_count": 60,
      "outputs": [
        {
          "output_type": "stream",
          "name": "stdout",
          "text": [
            "Looking in indexes: https://pypi.org/simple, https://us-python.pkg.dev/colab-wheels/public/simple/\n",
            "Requirement already satisfied: CausalInference in /usr/local/lib/python3.9/dist-packages (0.1.3)\n"
          ]
        }
      ]
    },
    {
      "cell_type": "code",
      "source": [
        "from causalinference import CausalModel"
      ],
      "metadata": {
        "id": "5caa7E7U1zsP"
      },
      "execution_count": 61,
      "outputs": []
    },
    {
      "cell_type": "code",
      "source": [
        "df = df.iloc[:,1:] # remove first column (childid)"
      ],
      "metadata": {
        "id": "_pAuRYHV10U3"
      },
      "execution_count": 62,
      "outputs": []
    },
    {
      "cell_type": "code",
      "source": [
        "df.head()"
      ],
      "metadata": {
        "colab": {
          "base_uri": "https://localhost:8080/",
          "height": 372
        },
        "id": "hVjaNo9s2J5h",
        "outputId": "649ce770-6043-4108-df60-2c8a46503754"
      },
      "execution_count": 63,
      "outputs": [
        {
          "output_type": "execute_result",
          "data": {
            "text/plain": [
              "   catholic                 race  number_places_lived  mom_age  dad_age  \\\n",
              "0         0  WHITE, NON-HISPANIC                    1       47       45   \n",
              "1         0  WHITE, NON-HISPANIC                    1       41       48   \n",
              "2         0  WHITE, NON-HISPANIC                    1       43       55   \n",
              "3         1  WHITE, NON-HISPANIC                    1       38       39   \n",
              "4         0  WHITE, NON-HISPANIC                    1       47       57   \n",
              "\n",
              "                      dad_education                           mom_education  \\\n",
              "0  DOCTORATE OR PROFESSIONAL DEGREE                            SOME COLLEGE   \n",
              "1                 BACHELOR'S DEGREE  GRADUATE/PROFESSIONAL SCHOOL-NO DEGREE   \n",
              "2          MASTER'S DEGREE (MA, MS)  GRADUATE/PROFESSIONAL SCHOOL-NO DEGREE   \n",
              "3                 BACHELOR'S DEGREE  GRADUATE/PROFESSIONAL SCHOOL-NO DEGREE   \n",
              "4  DOCTORATE OR PROFESSIONAL DEGREE                MASTER'S DEGREE (MA, MS)   \n",
              "\n",
              "   mom_score  dad_score    income  poverty  food_stamps  score_standardized  \n",
              "0      53.50       77.5   62500.5        0            0            0.981753  \n",
              "1      34.95       53.5   45000.5        0            0            0.594378  \n",
              "2      63.43       53.5   62500.5        0            0            0.490611  \n",
              "3      53.50       53.5   87500.5        0            0            1.451278  \n",
              "4      61.56       77.5  150000.5        0            0            2.595699  "
            ],
            "text/html": [
              "\n",
              "  <div id=\"df-aad69540-000e-4b21-b35f-4bad8c8a40f3\">\n",
              "    <div class=\"colab-df-container\">\n",
              "      <div>\n",
              "<style scoped>\n",
              "    .dataframe tbody tr th:only-of-type {\n",
              "        vertical-align: middle;\n",
              "    }\n",
              "\n",
              "    .dataframe tbody tr th {\n",
              "        vertical-align: top;\n",
              "    }\n",
              "\n",
              "    .dataframe thead th {\n",
              "        text-align: right;\n",
              "    }\n",
              "</style>\n",
              "<table border=\"1\" class=\"dataframe\">\n",
              "  <thead>\n",
              "    <tr style=\"text-align: right;\">\n",
              "      <th></th>\n",
              "      <th>catholic</th>\n",
              "      <th>race</th>\n",
              "      <th>number_places_lived</th>\n",
              "      <th>mom_age</th>\n",
              "      <th>dad_age</th>\n",
              "      <th>dad_education</th>\n",
              "      <th>mom_education</th>\n",
              "      <th>mom_score</th>\n",
              "      <th>dad_score</th>\n",
              "      <th>income</th>\n",
              "      <th>poverty</th>\n",
              "      <th>food_stamps</th>\n",
              "      <th>score_standardized</th>\n",
              "    </tr>\n",
              "  </thead>\n",
              "  <tbody>\n",
              "    <tr>\n",
              "      <th>0</th>\n",
              "      <td>0</td>\n",
              "      <td>WHITE, NON-HISPANIC</td>\n",
              "      <td>1</td>\n",
              "      <td>47</td>\n",
              "      <td>45</td>\n",
              "      <td>DOCTORATE OR PROFESSIONAL DEGREE</td>\n",
              "      <td>SOME COLLEGE</td>\n",
              "      <td>53.50</td>\n",
              "      <td>77.5</td>\n",
              "      <td>62500.5</td>\n",
              "      <td>0</td>\n",
              "      <td>0</td>\n",
              "      <td>0.981753</td>\n",
              "    </tr>\n",
              "    <tr>\n",
              "      <th>1</th>\n",
              "      <td>0</td>\n",
              "      <td>WHITE, NON-HISPANIC</td>\n",
              "      <td>1</td>\n",
              "      <td>41</td>\n",
              "      <td>48</td>\n",
              "      <td>BACHELOR'S DEGREE</td>\n",
              "      <td>GRADUATE/PROFESSIONAL SCHOOL-NO DEGREE</td>\n",
              "      <td>34.95</td>\n",
              "      <td>53.5</td>\n",
              "      <td>45000.5</td>\n",
              "      <td>0</td>\n",
              "      <td>0</td>\n",
              "      <td>0.594378</td>\n",
              "    </tr>\n",
              "    <tr>\n",
              "      <th>2</th>\n",
              "      <td>0</td>\n",
              "      <td>WHITE, NON-HISPANIC</td>\n",
              "      <td>1</td>\n",
              "      <td>43</td>\n",
              "      <td>55</td>\n",
              "      <td>MASTER'S DEGREE (MA, MS)</td>\n",
              "      <td>GRADUATE/PROFESSIONAL SCHOOL-NO DEGREE</td>\n",
              "      <td>63.43</td>\n",
              "      <td>53.5</td>\n",
              "      <td>62500.5</td>\n",
              "      <td>0</td>\n",
              "      <td>0</td>\n",
              "      <td>0.490611</td>\n",
              "    </tr>\n",
              "    <tr>\n",
              "      <th>3</th>\n",
              "      <td>1</td>\n",
              "      <td>WHITE, NON-HISPANIC</td>\n",
              "      <td>1</td>\n",
              "      <td>38</td>\n",
              "      <td>39</td>\n",
              "      <td>BACHELOR'S DEGREE</td>\n",
              "      <td>GRADUATE/PROFESSIONAL SCHOOL-NO DEGREE</td>\n",
              "      <td>53.50</td>\n",
              "      <td>53.5</td>\n",
              "      <td>87500.5</td>\n",
              "      <td>0</td>\n",
              "      <td>0</td>\n",
              "      <td>1.451278</td>\n",
              "    </tr>\n",
              "    <tr>\n",
              "      <th>4</th>\n",
              "      <td>0</td>\n",
              "      <td>WHITE, NON-HISPANIC</td>\n",
              "      <td>1</td>\n",
              "      <td>47</td>\n",
              "      <td>57</td>\n",
              "      <td>DOCTORATE OR PROFESSIONAL DEGREE</td>\n",
              "      <td>MASTER'S DEGREE (MA, MS)</td>\n",
              "      <td>61.56</td>\n",
              "      <td>77.5</td>\n",
              "      <td>150000.5</td>\n",
              "      <td>0</td>\n",
              "      <td>0</td>\n",
              "      <td>2.595699</td>\n",
              "    </tr>\n",
              "  </tbody>\n",
              "</table>\n",
              "</div>\n",
              "      <button class=\"colab-df-convert\" onclick=\"convertToInteractive('df-aad69540-000e-4b21-b35f-4bad8c8a40f3')\"\n",
              "              title=\"Convert this dataframe to an interactive table.\"\n",
              "              style=\"display:none;\">\n",
              "        \n",
              "  <svg xmlns=\"http://www.w3.org/2000/svg\" height=\"24px\"viewBox=\"0 0 24 24\"\n",
              "       width=\"24px\">\n",
              "    <path d=\"M0 0h24v24H0V0z\" fill=\"none\"/>\n",
              "    <path d=\"M18.56 5.44l.94 2.06.94-2.06 2.06-.94-2.06-.94-.94-2.06-.94 2.06-2.06.94zm-11 1L8.5 8.5l.94-2.06 2.06-.94-2.06-.94L8.5 2.5l-.94 2.06-2.06.94zm10 10l.94 2.06.94-2.06 2.06-.94-2.06-.94-.94-2.06-.94 2.06-2.06.94z\"/><path d=\"M17.41 7.96l-1.37-1.37c-.4-.4-.92-.59-1.43-.59-.52 0-1.04.2-1.43.59L10.3 9.45l-7.72 7.72c-.78.78-.78 2.05 0 2.83L4 21.41c.39.39.9.59 1.41.59.51 0 1.02-.2 1.41-.59l7.78-7.78 2.81-2.81c.8-.78.8-2.07 0-2.86zM5.41 20L4 18.59l7.72-7.72 1.47 1.35L5.41 20z\"/>\n",
              "  </svg>\n",
              "      </button>\n",
              "      \n",
              "  <style>\n",
              "    .colab-df-container {\n",
              "      display:flex;\n",
              "      flex-wrap:wrap;\n",
              "      gap: 12px;\n",
              "    }\n",
              "\n",
              "    .colab-df-convert {\n",
              "      background-color: #E8F0FE;\n",
              "      border: none;\n",
              "      border-radius: 50%;\n",
              "      cursor: pointer;\n",
              "      display: none;\n",
              "      fill: #1967D2;\n",
              "      height: 32px;\n",
              "      padding: 0 0 0 0;\n",
              "      width: 32px;\n",
              "    }\n",
              "\n",
              "    .colab-df-convert:hover {\n",
              "      background-color: #E2EBFA;\n",
              "      box-shadow: 0px 1px 2px rgba(60, 64, 67, 0.3), 0px 1px 3px 1px rgba(60, 64, 67, 0.15);\n",
              "      fill: #174EA6;\n",
              "    }\n",
              "\n",
              "    [theme=dark] .colab-df-convert {\n",
              "      background-color: #3B4455;\n",
              "      fill: #D2E3FC;\n",
              "    }\n",
              "\n",
              "    [theme=dark] .colab-df-convert:hover {\n",
              "      background-color: #434B5C;\n",
              "      box-shadow: 0px 1px 3px 1px rgba(0, 0, 0, 0.15);\n",
              "      filter: drop-shadow(0px 1px 2px rgba(0, 0, 0, 0.3));\n",
              "      fill: #FFFFFF;\n",
              "    }\n",
              "  </style>\n",
              "\n",
              "      <script>\n",
              "        const buttonEl =\n",
              "          document.querySelector('#df-aad69540-000e-4b21-b35f-4bad8c8a40f3 button.colab-df-convert');\n",
              "        buttonEl.style.display =\n",
              "          google.colab.kernel.accessAllowed ? 'block' : 'none';\n",
              "\n",
              "        async function convertToInteractive(key) {\n",
              "          const element = document.querySelector('#df-aad69540-000e-4b21-b35f-4bad8c8a40f3');\n",
              "          const dataTable =\n",
              "            await google.colab.kernel.invokeFunction('convertToInteractive',\n",
              "                                                     [key], {});\n",
              "          if (!dataTable) return;\n",
              "\n",
              "          const docLinkHtml = 'Like what you see? Visit the ' +\n",
              "            '<a target=\"_blank\" href=https://colab.research.google.com/notebooks/data_table.ipynb>data table notebook</a>'\n",
              "            + ' to learn more about interactive tables.';\n",
              "          element.innerHTML = '';\n",
              "          dataTable['output_type'] = 'display_data';\n",
              "          await google.colab.output.renderOutput(dataTable, element);\n",
              "          const docLink = document.createElement('div');\n",
              "          docLink.innerHTML = docLinkHtml;\n",
              "          element.appendChild(docLink);\n",
              "        }\n",
              "      </script>\n",
              "    </div>\n",
              "  </div>\n",
              "  "
            ]
          },
          "metadata": {},
          "execution_count": 63
        }
      ]
    },
    {
      "cell_type": "markdown",
      "source": [
        "### Unconfoundedness\n",
        "\n",
        "* The variables (confounders) are enough to describe the people or entities\n",
        "* The characteristics affect the likelihood of someone being part of the treatment \n",
        "* The combination of the confounders and the treatment leads to the outcome."
      ],
      "metadata": {
        "id": "Pxq5qTEJ2RW3"
      }
    },
    {
      "cell_type": "markdown",
      "source": [
        "### Data Analysis"
      ],
      "metadata": {
        "id": "CvdDn6S1xH6m"
      }
    },
    {
      "cell_type": "code",
      "source": [
        "#compare the averages of both groups\n",
        "df.groupby('catholic').mean()"
      ],
      "metadata": {
        "id": "y_7xh2V72LE5",
        "colab": {
          "base_uri": "https://localhost:8080/",
          "height": 143
        },
        "outputId": "16552c57-30d9-4014-dc89-1ad8e5ccd3ee"
      },
      "execution_count": 64,
      "outputs": [
        {
          "output_type": "execute_result",
          "data": {
            "text/plain": [
              "          number_places_lived    mom_age    dad_age  mom_score  dad_score  \\\n",
              "catholic                                                                    \n",
              "0                    1.106246  37.794621  40.134919  43.909495  42.590520   \n",
              "1                    1.073118  39.775269  42.007527  47.620871  45.908269   \n",
              "\n",
              "                income   poverty  food_stamps  score_standardized  \n",
              "catholic                                                           \n",
              "0         65393.928540  0.101578     0.045566            0.163128  \n",
              "1         86180.625269  0.016129     0.006452            0.219685  "
            ],
            "text/html": [
              "\n",
              "  <div id=\"df-eecdfe9c-19b7-484f-9985-d7fb13564cd6\">\n",
              "    <div class=\"colab-df-container\">\n",
              "      <div>\n",
              "<style scoped>\n",
              "    .dataframe tbody tr th:only-of-type {\n",
              "        vertical-align: middle;\n",
              "    }\n",
              "\n",
              "    .dataframe tbody tr th {\n",
              "        vertical-align: top;\n",
              "    }\n",
              "\n",
              "    .dataframe thead th {\n",
              "        text-align: right;\n",
              "    }\n",
              "</style>\n",
              "<table border=\"1\" class=\"dataframe\">\n",
              "  <thead>\n",
              "    <tr style=\"text-align: right;\">\n",
              "      <th></th>\n",
              "      <th>number_places_lived</th>\n",
              "      <th>mom_age</th>\n",
              "      <th>dad_age</th>\n",
              "      <th>mom_score</th>\n",
              "      <th>dad_score</th>\n",
              "      <th>income</th>\n",
              "      <th>poverty</th>\n",
              "      <th>food_stamps</th>\n",
              "      <th>score_standardized</th>\n",
              "    </tr>\n",
              "    <tr>\n",
              "      <th>catholic</th>\n",
              "      <th></th>\n",
              "      <th></th>\n",
              "      <th></th>\n",
              "      <th></th>\n",
              "      <th></th>\n",
              "      <th></th>\n",
              "      <th></th>\n",
              "      <th></th>\n",
              "      <th></th>\n",
              "    </tr>\n",
              "  </thead>\n",
              "  <tbody>\n",
              "    <tr>\n",
              "      <th>0</th>\n",
              "      <td>1.106246</td>\n",
              "      <td>37.794621</td>\n",
              "      <td>40.134919</td>\n",
              "      <td>43.909495</td>\n",
              "      <td>42.590520</td>\n",
              "      <td>65393.928540</td>\n",
              "      <td>0.101578</td>\n",
              "      <td>0.045566</td>\n",
              "      <td>0.163128</td>\n",
              "    </tr>\n",
              "    <tr>\n",
              "      <th>1</th>\n",
              "      <td>1.073118</td>\n",
              "      <td>39.775269</td>\n",
              "      <td>42.007527</td>\n",
              "      <td>47.620871</td>\n",
              "      <td>45.908269</td>\n",
              "      <td>86180.625269</td>\n",
              "      <td>0.016129</td>\n",
              "      <td>0.006452</td>\n",
              "      <td>0.219685</td>\n",
              "    </tr>\n",
              "  </tbody>\n",
              "</table>\n",
              "</div>\n",
              "      <button class=\"colab-df-convert\" onclick=\"convertToInteractive('df-eecdfe9c-19b7-484f-9985-d7fb13564cd6')\"\n",
              "              title=\"Convert this dataframe to an interactive table.\"\n",
              "              style=\"display:none;\">\n",
              "        \n",
              "  <svg xmlns=\"http://www.w3.org/2000/svg\" height=\"24px\"viewBox=\"0 0 24 24\"\n",
              "       width=\"24px\">\n",
              "    <path d=\"M0 0h24v24H0V0z\" fill=\"none\"/>\n",
              "    <path d=\"M18.56 5.44l.94 2.06.94-2.06 2.06-.94-2.06-.94-.94-2.06-.94 2.06-2.06.94zm-11 1L8.5 8.5l.94-2.06 2.06-.94-2.06-.94L8.5 2.5l-.94 2.06-2.06.94zm10 10l.94 2.06.94-2.06 2.06-.94-2.06-.94-.94-2.06-.94 2.06-2.06.94z\"/><path d=\"M17.41 7.96l-1.37-1.37c-.4-.4-.92-.59-1.43-.59-.52 0-1.04.2-1.43.59L10.3 9.45l-7.72 7.72c-.78.78-.78 2.05 0 2.83L4 21.41c.39.39.9.59 1.41.59.51 0 1.02-.2 1.41-.59l7.78-7.78 2.81-2.81c.8-.78.8-2.07 0-2.86zM5.41 20L4 18.59l7.72-7.72 1.47 1.35L5.41 20z\"/>\n",
              "  </svg>\n",
              "      </button>\n",
              "      \n",
              "  <style>\n",
              "    .colab-df-container {\n",
              "      display:flex;\n",
              "      flex-wrap:wrap;\n",
              "      gap: 12px;\n",
              "    }\n",
              "\n",
              "    .colab-df-convert {\n",
              "      background-color: #E8F0FE;\n",
              "      border: none;\n",
              "      border-radius: 50%;\n",
              "      cursor: pointer;\n",
              "      display: none;\n",
              "      fill: #1967D2;\n",
              "      height: 32px;\n",
              "      padding: 0 0 0 0;\n",
              "      width: 32px;\n",
              "    }\n",
              "\n",
              "    .colab-df-convert:hover {\n",
              "      background-color: #E2EBFA;\n",
              "      box-shadow: 0px 1px 2px rgba(60, 64, 67, 0.3), 0px 1px 3px 1px rgba(60, 64, 67, 0.15);\n",
              "      fill: #174EA6;\n",
              "    }\n",
              "\n",
              "    [theme=dark] .colab-df-convert {\n",
              "      background-color: #3B4455;\n",
              "      fill: #D2E3FC;\n",
              "    }\n",
              "\n",
              "    [theme=dark] .colab-df-convert:hover {\n",
              "      background-color: #434B5C;\n",
              "      box-shadow: 0px 1px 3px 1px rgba(0, 0, 0, 0.15);\n",
              "      filter: drop-shadow(0px 1px 2px rgba(0, 0, 0, 0.3));\n",
              "      fill: #FFFFFF;\n",
              "    }\n",
              "  </style>\n",
              "\n",
              "      <script>\n",
              "        const buttonEl =\n",
              "          document.querySelector('#df-eecdfe9c-19b7-484f-9985-d7fb13564cd6 button.colab-df-convert');\n",
              "        buttonEl.style.display =\n",
              "          google.colab.kernel.accessAllowed ? 'block' : 'none';\n",
              "\n",
              "        async function convertToInteractive(key) {\n",
              "          const element = document.querySelector('#df-eecdfe9c-19b7-484f-9985-d7fb13564cd6');\n",
              "          const dataTable =\n",
              "            await google.colab.kernel.invokeFunction('convertToInteractive',\n",
              "                                                     [key], {});\n",
              "          if (!dataTable) return;\n",
              "\n",
              "          const docLinkHtml = 'Like what you see? Visit the ' +\n",
              "            '<a target=\"_blank\" href=https://colab.research.google.com/notebooks/data_table.ipynb>data table notebook</a>'\n",
              "            + ' to learn more about interactive tables.';\n",
              "          element.innerHTML = '';\n",
              "          dataTable['output_type'] = 'display_data';\n",
              "          await google.colab.output.renderOutput(dataTable, element);\n",
              "          const docLink = document.createElement('div');\n",
              "          docLink.innerHTML = docLinkHtml;\n",
              "          element.appendChild(docLink);\n",
              "        }\n",
              "      </script>\n",
              "    </div>\n",
              "  </div>\n",
              "  "
            ]
          },
          "metadata": {},
          "execution_count": 64
        }
      ]
    },
    {
      "cell_type": "code",
      "source": [
        "import scipy.stats as ss"
      ],
      "metadata": {
        "id": "o0Jwwy_Gx-3S"
      },
      "execution_count": 65,
      "outputs": []
    },
    {
      "cell_type": "code",
      "source": [
        "#t-test : Are the differences statistically significant ?\n",
        "# H0 = means are statistically similar\n",
        "\n",
        "continuous = ['number_places_lived', 'mom_age', 'dad_age', 'mom_score', 'dad_score', 'income']\n",
        "\n",
        "stat = {}\n",
        "p = {}\n",
        "\n",
        "for x in continuous:\n",
        "  group1 = df.where(df.catholic == 0).dropna()[x]\n",
        "  group2 = df.where(df.catholic == 1).dropna()[x]\n",
        "  stat[x], p[x] = ss.ttest_ind(group1, group2)\n",
        "\n",
        "ttests = pd.DataFrame.from_dict(p, orient = 'Index')\n",
        "ttests.columns = ['pvalue']\n",
        "print(ttests)"
      ],
      "metadata": {
        "colab": {
          "base_uri": "https://localhost:8080/"
        },
        "id": "K6VPNJpsykUd",
        "outputId": "150a3063-9c6c-4a3e-9e5a-5799d55066aa"
      },
      "execution_count": 66,
      "outputs": [
        {
          "output_type": "stream",
          "name": "stdout",
          "text": [
            "                           pvalue\n",
            "number_places_lived  7.072609e-03\n",
            "mom_age              1.359492e-22\n",
            "dad_age              3.344265e-16\n",
            "mom_score            2.280116e-19\n",
            "dad_score            5.489722e-18\n",
            "income               5.943636e-41\n"
          ]
        }
      ]
    },
    {
      "cell_type": "code",
      "source": [
        "# p < 0.05 => rejecting H0 => means are statistically different"
      ],
      "metadata": {
        "id": "RNsUODkCzb5r"
      },
      "execution_count": 67,
      "outputs": []
    },
    {
      "cell_type": "code",
      "source": [
        "# chi-square : H0 = there are no differences between the classes in the population\n",
        "categorical = ['poverty', 'food_stamps']\n",
        "\n",
        "p = {}\n",
        "\n",
        "for x in categorical:\n",
        "  tab = pd.crosstab(index = df[x], columns = df.catholic)\n",
        "  chi2, p[x], dof, expected = ss.chi2_contingency(tab)\n",
        "\n",
        "chisquare = pd.DataFrame.from_dict(p, orient = 'Index')\n",
        "chisquare.columns = ['pvalue']\n",
        "print(chisquare)"
      ],
      "metadata": {
        "colab": {
          "base_uri": "https://localhost:8080/"
        },
        "id": "Ty0qTLxV2uWI",
        "outputId": "bf1e7566-ee1f-41db-869c-df768bf6ab88"
      },
      "execution_count": 68,
      "outputs": [
        {
          "output_type": "stream",
          "name": "stdout",
          "text": [
            "                   pvalue\n",
            "poverty      6.511355e-17\n",
            "food_stamps  3.294153e-08\n"
          ]
        }
      ]
    },
    {
      "cell_type": "code",
      "source": [
        "# p < 0.05 => rejecting H0 => classes are statistically different"
      ],
      "metadata": {
        "id": "J1U2qKBJ3iGE"
      },
      "execution_count": 69,
      "outputs": []
    },
    {
      "cell_type": "markdown",
      "source": [
        "### Data Preparation\n",
        "\n",
        "* Let's simplify our model, remove insignificant options / data\n",
        "* not using pd.get_dummies() because that would add too many columns"
      ],
      "metadata": {
        "id": "t1TP-ShD4xg6"
      }
    },
    {
      "cell_type": "code",
      "source": [
        "df.race.value_counts()"
      ],
      "metadata": {
        "colab": {
          "base_uri": "https://localhost:8080/"
        },
        "id": "VRErRFHg3mht",
        "outputId": "33935c1a-5ebb-4868-a8dd-c7204ea7a408"
      },
      "execution_count": 70,
      "outputs": [
        {
          "output_type": "execute_result",
          "data": {
            "text/plain": [
              "WHITE, NON-HISPANIC                        3654\n",
              "HISPANIC, RACE NOT SPECIFIED                408\n",
              "HISPANIC, RACE SPECIFIED                    387\n",
              "BLACK OR AFRICAN AMERICAN, NON-HISPANIC     357\n",
              "ASIAN                                       342\n",
              "MORE THAN ONE RACE, NON HISPANIC            123\n",
              "NATIVE HAWAIIAN, OTHER PACIFIC ISLANDER      93\n",
              "AMERICAN INDIAN OR ALASKA NATIVE             62\n",
              "NOT ASCERTAINED                               3\n",
              "Name: race, dtype: int64"
            ]
          },
          "metadata": {},
          "execution_count": 70
        }
      ]
    },
    {
      "cell_type": "code",
      "source": [
        "df['race_white'] = np.where(df.race == 'WHITE, NON-HISPANIC', 1 , 0)\n",
        "df['race_hispanic'] = np.where(((df.race == 'HISPANIC, RACE NOT SPECIFIED') | (df.race == 'HISPANIC, RACE SPECIFIED')), 1 , 0)\n",
        "df['race_black'] = np.where(df.race == 'BLACK OR AFRICAN AMERICAN, NON-HISPANIC', 1 , 0)\n",
        "df['race_asian'] = np.where(df.race == 'ASIAN', 1 , 0)\n",
        "# no need to add \"other\", it will be when the 4 others are 0"
      ],
      "metadata": {
        "id": "kYLt-DHC45jd"
      },
      "execution_count": 76,
      "outputs": []
    },
    {
      "cell_type": "code",
      "source": [
        "df.head(2)"
      ],
      "metadata": {
        "colab": {
          "base_uri": "https://localhost:8080/",
          "height": 263
        },
        "id": "oFhm5JlH6Ymu",
        "outputId": "a1dcd0cc-66bd-4deb-df31-733e5d35a5c9"
      },
      "execution_count": 77,
      "outputs": [
        {
          "output_type": "execute_result",
          "data": {
            "text/plain": [
              "   catholic                 race  number_places_lived  mom_age  dad_age  \\\n",
              "0         0  WHITE, NON-HISPANIC                    1       47       45   \n",
              "1         0  WHITE, NON-HISPANIC                    1       41       48   \n",
              "\n",
              "                      dad_education                           mom_education  \\\n",
              "0  DOCTORATE OR PROFESSIONAL DEGREE                            SOME COLLEGE   \n",
              "1                 BACHELOR'S DEGREE  GRADUATE/PROFESSIONAL SCHOOL-NO DEGREE   \n",
              "\n",
              "   mom_score  dad_score   income  poverty  food_stamps  score_standardized  \\\n",
              "0      53.50       77.5  62500.5        0            0            0.981753   \n",
              "1      34.95       53.5  45000.5        0            0            0.594378   \n",
              "\n",
              "   race_white  race_hispanic  race_black  race_asian  \n",
              "0           1              0           0           0  \n",
              "1           1              0           0           0  "
            ],
            "text/html": [
              "\n",
              "  <div id=\"df-8bdc653f-f232-4c1d-b8e6-f9ca89e1a74a\">\n",
              "    <div class=\"colab-df-container\">\n",
              "      <div>\n",
              "<style scoped>\n",
              "    .dataframe tbody tr th:only-of-type {\n",
              "        vertical-align: middle;\n",
              "    }\n",
              "\n",
              "    .dataframe tbody tr th {\n",
              "        vertical-align: top;\n",
              "    }\n",
              "\n",
              "    .dataframe thead th {\n",
              "        text-align: right;\n",
              "    }\n",
              "</style>\n",
              "<table border=\"1\" class=\"dataframe\">\n",
              "  <thead>\n",
              "    <tr style=\"text-align: right;\">\n",
              "      <th></th>\n",
              "      <th>catholic</th>\n",
              "      <th>race</th>\n",
              "      <th>number_places_lived</th>\n",
              "      <th>mom_age</th>\n",
              "      <th>dad_age</th>\n",
              "      <th>dad_education</th>\n",
              "      <th>mom_education</th>\n",
              "      <th>mom_score</th>\n",
              "      <th>dad_score</th>\n",
              "      <th>income</th>\n",
              "      <th>poverty</th>\n",
              "      <th>food_stamps</th>\n",
              "      <th>score_standardized</th>\n",
              "      <th>race_white</th>\n",
              "      <th>race_hispanic</th>\n",
              "      <th>race_black</th>\n",
              "      <th>race_asian</th>\n",
              "    </tr>\n",
              "  </thead>\n",
              "  <tbody>\n",
              "    <tr>\n",
              "      <th>0</th>\n",
              "      <td>0</td>\n",
              "      <td>WHITE, NON-HISPANIC</td>\n",
              "      <td>1</td>\n",
              "      <td>47</td>\n",
              "      <td>45</td>\n",
              "      <td>DOCTORATE OR PROFESSIONAL DEGREE</td>\n",
              "      <td>SOME COLLEGE</td>\n",
              "      <td>53.50</td>\n",
              "      <td>77.5</td>\n",
              "      <td>62500.5</td>\n",
              "      <td>0</td>\n",
              "      <td>0</td>\n",
              "      <td>0.981753</td>\n",
              "      <td>1</td>\n",
              "      <td>0</td>\n",
              "      <td>0</td>\n",
              "      <td>0</td>\n",
              "    </tr>\n",
              "    <tr>\n",
              "      <th>1</th>\n",
              "      <td>0</td>\n",
              "      <td>WHITE, NON-HISPANIC</td>\n",
              "      <td>1</td>\n",
              "      <td>41</td>\n",
              "      <td>48</td>\n",
              "      <td>BACHELOR'S DEGREE</td>\n",
              "      <td>GRADUATE/PROFESSIONAL SCHOOL-NO DEGREE</td>\n",
              "      <td>34.95</td>\n",
              "      <td>53.5</td>\n",
              "      <td>45000.5</td>\n",
              "      <td>0</td>\n",
              "      <td>0</td>\n",
              "      <td>0.594378</td>\n",
              "      <td>1</td>\n",
              "      <td>0</td>\n",
              "      <td>0</td>\n",
              "      <td>0</td>\n",
              "    </tr>\n",
              "  </tbody>\n",
              "</table>\n",
              "</div>\n",
              "      <button class=\"colab-df-convert\" onclick=\"convertToInteractive('df-8bdc653f-f232-4c1d-b8e6-f9ca89e1a74a')\"\n",
              "              title=\"Convert this dataframe to an interactive table.\"\n",
              "              style=\"display:none;\">\n",
              "        \n",
              "  <svg xmlns=\"http://www.w3.org/2000/svg\" height=\"24px\"viewBox=\"0 0 24 24\"\n",
              "       width=\"24px\">\n",
              "    <path d=\"M0 0h24v24H0V0z\" fill=\"none\"/>\n",
              "    <path d=\"M18.56 5.44l.94 2.06.94-2.06 2.06-.94-2.06-.94-.94-2.06-.94 2.06-2.06.94zm-11 1L8.5 8.5l.94-2.06 2.06-.94-2.06-.94L8.5 2.5l-.94 2.06-2.06.94zm10 10l.94 2.06.94-2.06 2.06-.94-2.06-.94-.94-2.06-.94 2.06-2.06.94z\"/><path d=\"M17.41 7.96l-1.37-1.37c-.4-.4-.92-.59-1.43-.59-.52 0-1.04.2-1.43.59L10.3 9.45l-7.72 7.72c-.78.78-.78 2.05 0 2.83L4 21.41c.39.39.9.59 1.41.59.51 0 1.02-.2 1.41-.59l7.78-7.78 2.81-2.81c.8-.78.8-2.07 0-2.86zM5.41 20L4 18.59l7.72-7.72 1.47 1.35L5.41 20z\"/>\n",
              "  </svg>\n",
              "      </button>\n",
              "      \n",
              "  <style>\n",
              "    .colab-df-container {\n",
              "      display:flex;\n",
              "      flex-wrap:wrap;\n",
              "      gap: 12px;\n",
              "    }\n",
              "\n",
              "    .colab-df-convert {\n",
              "      background-color: #E8F0FE;\n",
              "      border: none;\n",
              "      border-radius: 50%;\n",
              "      cursor: pointer;\n",
              "      display: none;\n",
              "      fill: #1967D2;\n",
              "      height: 32px;\n",
              "      padding: 0 0 0 0;\n",
              "      width: 32px;\n",
              "    }\n",
              "\n",
              "    .colab-df-convert:hover {\n",
              "      background-color: #E2EBFA;\n",
              "      box-shadow: 0px 1px 2px rgba(60, 64, 67, 0.3), 0px 1px 3px 1px rgba(60, 64, 67, 0.15);\n",
              "      fill: #174EA6;\n",
              "    }\n",
              "\n",
              "    [theme=dark] .colab-df-convert {\n",
              "      background-color: #3B4455;\n",
              "      fill: #D2E3FC;\n",
              "    }\n",
              "\n",
              "    [theme=dark] .colab-df-convert:hover {\n",
              "      background-color: #434B5C;\n",
              "      box-shadow: 0px 1px 3px 1px rgba(0, 0, 0, 0.15);\n",
              "      filter: drop-shadow(0px 1px 2px rgba(0, 0, 0, 0.3));\n",
              "      fill: #FFFFFF;\n",
              "    }\n",
              "  </style>\n",
              "\n",
              "      <script>\n",
              "        const buttonEl =\n",
              "          document.querySelector('#df-8bdc653f-f232-4c1d-b8e6-f9ca89e1a74a button.colab-df-convert');\n",
              "        buttonEl.style.display =\n",
              "          google.colab.kernel.accessAllowed ? 'block' : 'none';\n",
              "\n",
              "        async function convertToInteractive(key) {\n",
              "          const element = document.querySelector('#df-8bdc653f-f232-4c1d-b8e6-f9ca89e1a74a');\n",
              "          const dataTable =\n",
              "            await google.colab.kernel.invokeFunction('convertToInteractive',\n",
              "                                                     [key], {});\n",
              "          if (!dataTable) return;\n",
              "\n",
              "          const docLinkHtml = 'Like what you see? Visit the ' +\n",
              "            '<a target=\"_blank\" href=https://colab.research.google.com/notebooks/data_table.ipynb>data table notebook</a>'\n",
              "            + ' to learn more about interactive tables.';\n",
              "          element.innerHTML = '';\n",
              "          dataTable['output_type'] = 'display_data';\n",
              "          await google.colab.output.renderOutput(dataTable, element);\n",
              "          const docLink = document.createElement('div');\n",
              "          docLink.innerHTML = docLinkHtml;\n",
              "          element.appendChild(docLink);\n",
              "        }\n",
              "      </script>\n",
              "    </div>\n",
              "  </div>\n",
              "  "
            ]
          },
          "metadata": {},
          "execution_count": 77
        }
      ]
    },
    {
      "cell_type": "code",
      "source": [
        "df.mom_education.value_counts()"
      ],
      "metadata": {
        "colab": {
          "base_uri": "https://localhost:8080/"
        },
        "id": "TY_mJVbI6glf",
        "outputId": "f782d36b-0ee5-4019-867a-6597d61046fd"
      },
      "execution_count": 78,
      "outputs": [
        {
          "output_type": "execute_result",
          "data": {
            "text/plain": [
              "SOME COLLEGE                              1721\n",
              "HIGH SCHOOL DIPLOMA/EQUIVALENT            1306\n",
              "BACHELOR'S DEGREE                         1085\n",
              "MASTER'S DEGREE (MA, MS)                   387\n",
              "VOC/TECH PROGRAM                           294\n",
              "9TH - 12TH GRADE                           222\n",
              "GRADUATE/PROFESSIONAL SCHOOL-NO DEGREE     170\n",
              "8TH GRADE OR BELOW                         134\n",
              "DOCTORATE OR PROFESSIONAL DEGREE           110\n",
              "Name: mom_education, dtype: int64"
            ]
          },
          "metadata": {},
          "execution_count": 78
        }
      ]
    },
    {
      "cell_type": "code",
      "source": [
        "df['dad_higher_education'] = np.where((df.dad_education == \"BACHELOR'S DEGREE\") | \n",
        "                                      (df.dad_education == \"MASTER'S DEGREE (MA, MS)\")  | \n",
        "                                      (df.dad_education == \"DOCTORATE OR PROFESSIONAL DEGREE\"), \n",
        "                                      1, 0)\n",
        "df['mom_higher_education'] = np.where((df.mom_education == \"BACHELOR'S DEGREE\") | \n",
        "                                      (df.mom_education == \"MASTER'S DEGREE (MA, MS)\")  | \n",
        "                                      (df.mom_education == \"DOCTORATE OR PROFESSIONAL DEGREE\"), \n",
        "                                      1, 0)"
      ],
      "metadata": {
        "id": "dnaU23rC7D1L"
      },
      "execution_count": 81,
      "outputs": []
    },
    {
      "cell_type": "code",
      "source": [
        "df.head(2)"
      ],
      "metadata": {
        "colab": {
          "base_uri": "https://localhost:8080/",
          "height": 263
        },
        "id": "ecRwayx576MH",
        "outputId": "0149c67b-a830-48fc-c663-8416171840d0"
      },
      "execution_count": 82,
      "outputs": [
        {
          "output_type": "execute_result",
          "data": {
            "text/plain": [
              "   catholic                 race  number_places_lived  mom_age  dad_age  \\\n",
              "0         0  WHITE, NON-HISPANIC                    1       47       45   \n",
              "1         0  WHITE, NON-HISPANIC                    1       41       48   \n",
              "\n",
              "                      dad_education                           mom_education  \\\n",
              "0  DOCTORATE OR PROFESSIONAL DEGREE                            SOME COLLEGE   \n",
              "1                 BACHELOR'S DEGREE  GRADUATE/PROFESSIONAL SCHOOL-NO DEGREE   \n",
              "\n",
              "   mom_score  dad_score   income  poverty  food_stamps  score_standardized  \\\n",
              "0      53.50       77.5  62500.5        0            0            0.981753   \n",
              "1      34.95       53.5  45000.5        0            0            0.594378   \n",
              "\n",
              "   race_white  race_hispanic  race_black  race_asian  dad_higher_education  \\\n",
              "0           1              0           0           0                     1   \n",
              "1           1              0           0           0                     1   \n",
              "\n",
              "   mom_higher_education  \n",
              "0                     0  \n",
              "1                     0  "
            ],
            "text/html": [
              "\n",
              "  <div id=\"df-8abd81e9-120c-4a62-bd7f-51f6d91038d5\">\n",
              "    <div class=\"colab-df-container\">\n",
              "      <div>\n",
              "<style scoped>\n",
              "    .dataframe tbody tr th:only-of-type {\n",
              "        vertical-align: middle;\n",
              "    }\n",
              "\n",
              "    .dataframe tbody tr th {\n",
              "        vertical-align: top;\n",
              "    }\n",
              "\n",
              "    .dataframe thead th {\n",
              "        text-align: right;\n",
              "    }\n",
              "</style>\n",
              "<table border=\"1\" class=\"dataframe\">\n",
              "  <thead>\n",
              "    <tr style=\"text-align: right;\">\n",
              "      <th></th>\n",
              "      <th>catholic</th>\n",
              "      <th>race</th>\n",
              "      <th>number_places_lived</th>\n",
              "      <th>mom_age</th>\n",
              "      <th>dad_age</th>\n",
              "      <th>dad_education</th>\n",
              "      <th>mom_education</th>\n",
              "      <th>mom_score</th>\n",
              "      <th>dad_score</th>\n",
              "      <th>income</th>\n",
              "      <th>poverty</th>\n",
              "      <th>food_stamps</th>\n",
              "      <th>score_standardized</th>\n",
              "      <th>race_white</th>\n",
              "      <th>race_hispanic</th>\n",
              "      <th>race_black</th>\n",
              "      <th>race_asian</th>\n",
              "      <th>dad_higher_education</th>\n",
              "      <th>mom_higher_education</th>\n",
              "    </tr>\n",
              "  </thead>\n",
              "  <tbody>\n",
              "    <tr>\n",
              "      <th>0</th>\n",
              "      <td>0</td>\n",
              "      <td>WHITE, NON-HISPANIC</td>\n",
              "      <td>1</td>\n",
              "      <td>47</td>\n",
              "      <td>45</td>\n",
              "      <td>DOCTORATE OR PROFESSIONAL DEGREE</td>\n",
              "      <td>SOME COLLEGE</td>\n",
              "      <td>53.50</td>\n",
              "      <td>77.5</td>\n",
              "      <td>62500.5</td>\n",
              "      <td>0</td>\n",
              "      <td>0</td>\n",
              "      <td>0.981753</td>\n",
              "      <td>1</td>\n",
              "      <td>0</td>\n",
              "      <td>0</td>\n",
              "      <td>0</td>\n",
              "      <td>1</td>\n",
              "      <td>0</td>\n",
              "    </tr>\n",
              "    <tr>\n",
              "      <th>1</th>\n",
              "      <td>0</td>\n",
              "      <td>WHITE, NON-HISPANIC</td>\n",
              "      <td>1</td>\n",
              "      <td>41</td>\n",
              "      <td>48</td>\n",
              "      <td>BACHELOR'S DEGREE</td>\n",
              "      <td>GRADUATE/PROFESSIONAL SCHOOL-NO DEGREE</td>\n",
              "      <td>34.95</td>\n",
              "      <td>53.5</td>\n",
              "      <td>45000.5</td>\n",
              "      <td>0</td>\n",
              "      <td>0</td>\n",
              "      <td>0.594378</td>\n",
              "      <td>1</td>\n",
              "      <td>0</td>\n",
              "      <td>0</td>\n",
              "      <td>0</td>\n",
              "      <td>1</td>\n",
              "      <td>0</td>\n",
              "    </tr>\n",
              "  </tbody>\n",
              "</table>\n",
              "</div>\n",
              "      <button class=\"colab-df-convert\" onclick=\"convertToInteractive('df-8abd81e9-120c-4a62-bd7f-51f6d91038d5')\"\n",
              "              title=\"Convert this dataframe to an interactive table.\"\n",
              "              style=\"display:none;\">\n",
              "        \n",
              "  <svg xmlns=\"http://www.w3.org/2000/svg\" height=\"24px\"viewBox=\"0 0 24 24\"\n",
              "       width=\"24px\">\n",
              "    <path d=\"M0 0h24v24H0V0z\" fill=\"none\"/>\n",
              "    <path d=\"M18.56 5.44l.94 2.06.94-2.06 2.06-.94-2.06-.94-.94-2.06-.94 2.06-2.06.94zm-11 1L8.5 8.5l.94-2.06 2.06-.94-2.06-.94L8.5 2.5l-.94 2.06-2.06.94zm10 10l.94 2.06.94-2.06 2.06-.94-2.06-.94-.94-2.06-.94 2.06-2.06.94z\"/><path d=\"M17.41 7.96l-1.37-1.37c-.4-.4-.92-.59-1.43-.59-.52 0-1.04.2-1.43.59L10.3 9.45l-7.72 7.72c-.78.78-.78 2.05 0 2.83L4 21.41c.39.39.9.59 1.41.59.51 0 1.02-.2 1.41-.59l7.78-7.78 2.81-2.81c.8-.78.8-2.07 0-2.86zM5.41 20L4 18.59l7.72-7.72 1.47 1.35L5.41 20z\"/>\n",
              "  </svg>\n",
              "      </button>\n",
              "      \n",
              "  <style>\n",
              "    .colab-df-container {\n",
              "      display:flex;\n",
              "      flex-wrap:wrap;\n",
              "      gap: 12px;\n",
              "    }\n",
              "\n",
              "    .colab-df-convert {\n",
              "      background-color: #E8F0FE;\n",
              "      border: none;\n",
              "      border-radius: 50%;\n",
              "      cursor: pointer;\n",
              "      display: none;\n",
              "      fill: #1967D2;\n",
              "      height: 32px;\n",
              "      padding: 0 0 0 0;\n",
              "      width: 32px;\n",
              "    }\n",
              "\n",
              "    .colab-df-convert:hover {\n",
              "      background-color: #E2EBFA;\n",
              "      box-shadow: 0px 1px 2px rgba(60, 64, 67, 0.3), 0px 1px 3px 1px rgba(60, 64, 67, 0.15);\n",
              "      fill: #174EA6;\n",
              "    }\n",
              "\n",
              "    [theme=dark] .colab-df-convert {\n",
              "      background-color: #3B4455;\n",
              "      fill: #D2E3FC;\n",
              "    }\n",
              "\n",
              "    [theme=dark] .colab-df-convert:hover {\n",
              "      background-color: #434B5C;\n",
              "      box-shadow: 0px 1px 3px 1px rgba(0, 0, 0, 0.15);\n",
              "      filter: drop-shadow(0px 1px 2px rgba(0, 0, 0, 0.3));\n",
              "      fill: #FFFFFF;\n",
              "    }\n",
              "  </style>\n",
              "\n",
              "      <script>\n",
              "        const buttonEl =\n",
              "          document.querySelector('#df-8abd81e9-120c-4a62-bd7f-51f6d91038d5 button.colab-df-convert');\n",
              "        buttonEl.style.display =\n",
              "          google.colab.kernel.accessAllowed ? 'block' : 'none';\n",
              "\n",
              "        async function convertToInteractive(key) {\n",
              "          const element = document.querySelector('#df-8abd81e9-120c-4a62-bd7f-51f6d91038d5');\n",
              "          const dataTable =\n",
              "            await google.colab.kernel.invokeFunction('convertToInteractive',\n",
              "                                                     [key], {});\n",
              "          if (!dataTable) return;\n",
              "\n",
              "          const docLinkHtml = 'Like what you see? Visit the ' +\n",
              "            '<a target=\"_blank\" href=https://colab.research.google.com/notebooks/data_table.ipynb>data table notebook</a>'\n",
              "            + ' to learn more about interactive tables.';\n",
              "          element.innerHTML = '';\n",
              "          dataTable['output_type'] = 'display_data';\n",
              "          await google.colab.output.renderOutput(dataTable, element);\n",
              "          const docLink = document.createElement('div');\n",
              "          docLink.innerHTML = docLinkHtml;\n",
              "          element.appendChild(docLink);\n",
              "        }\n",
              "      </script>\n",
              "    </div>\n",
              "  </div>\n",
              "  "
            ]
          },
          "metadata": {},
          "execution_count": 82
        }
      ]
    },
    {
      "cell_type": "code",
      "source": [
        "# clean the df\n",
        "\n",
        "df = df.drop(columns = [\"race\", \"dad_education\", \"mom_education\"])\n",
        "df.head(1)"
      ],
      "metadata": {
        "colab": {
          "base_uri": "https://localhost:8080/",
          "height": 145
        },
        "id": "eKFf8D3077Rn",
        "outputId": "9ac4f608-e27e-415a-d6e6-141a9969305f"
      },
      "execution_count": 85,
      "outputs": [
        {
          "output_type": "execute_result",
          "data": {
            "text/plain": [
              "   catholic  number_places_lived  mom_age  dad_age  mom_score  dad_score  \\\n",
              "0         0                    1       47       45       53.5       77.5   \n",
              "\n",
              "    income  poverty  food_stamps  score_standardized  race_white  \\\n",
              "0  62500.5        0            0            0.981753           1   \n",
              "\n",
              "   race_hispanic  race_black  race_asian  dad_higher_education  \\\n",
              "0              0           0           0                     1   \n",
              "\n",
              "   mom_higher_education  \n",
              "0                     0  "
            ],
            "text/html": [
              "\n",
              "  <div id=\"df-2fc1d283-c752-41bb-a84f-752adb55e765\">\n",
              "    <div class=\"colab-df-container\">\n",
              "      <div>\n",
              "<style scoped>\n",
              "    .dataframe tbody tr th:only-of-type {\n",
              "        vertical-align: middle;\n",
              "    }\n",
              "\n",
              "    .dataframe tbody tr th {\n",
              "        vertical-align: top;\n",
              "    }\n",
              "\n",
              "    .dataframe thead th {\n",
              "        text-align: right;\n",
              "    }\n",
              "</style>\n",
              "<table border=\"1\" class=\"dataframe\">\n",
              "  <thead>\n",
              "    <tr style=\"text-align: right;\">\n",
              "      <th></th>\n",
              "      <th>catholic</th>\n",
              "      <th>number_places_lived</th>\n",
              "      <th>mom_age</th>\n",
              "      <th>dad_age</th>\n",
              "      <th>mom_score</th>\n",
              "      <th>dad_score</th>\n",
              "      <th>income</th>\n",
              "      <th>poverty</th>\n",
              "      <th>food_stamps</th>\n",
              "      <th>score_standardized</th>\n",
              "      <th>race_white</th>\n",
              "      <th>race_hispanic</th>\n",
              "      <th>race_black</th>\n",
              "      <th>race_asian</th>\n",
              "      <th>dad_higher_education</th>\n",
              "      <th>mom_higher_education</th>\n",
              "    </tr>\n",
              "  </thead>\n",
              "  <tbody>\n",
              "    <tr>\n",
              "      <th>0</th>\n",
              "      <td>0</td>\n",
              "      <td>1</td>\n",
              "      <td>47</td>\n",
              "      <td>45</td>\n",
              "      <td>53.5</td>\n",
              "      <td>77.5</td>\n",
              "      <td>62500.5</td>\n",
              "      <td>0</td>\n",
              "      <td>0</td>\n",
              "      <td>0.981753</td>\n",
              "      <td>1</td>\n",
              "      <td>0</td>\n",
              "      <td>0</td>\n",
              "      <td>0</td>\n",
              "      <td>1</td>\n",
              "      <td>0</td>\n",
              "    </tr>\n",
              "  </tbody>\n",
              "</table>\n",
              "</div>\n",
              "      <button class=\"colab-df-convert\" onclick=\"convertToInteractive('df-2fc1d283-c752-41bb-a84f-752adb55e765')\"\n",
              "              title=\"Convert this dataframe to an interactive table.\"\n",
              "              style=\"display:none;\">\n",
              "        \n",
              "  <svg xmlns=\"http://www.w3.org/2000/svg\" height=\"24px\"viewBox=\"0 0 24 24\"\n",
              "       width=\"24px\">\n",
              "    <path d=\"M0 0h24v24H0V0z\" fill=\"none\"/>\n",
              "    <path d=\"M18.56 5.44l.94 2.06.94-2.06 2.06-.94-2.06-.94-.94-2.06-.94 2.06-2.06.94zm-11 1L8.5 8.5l.94-2.06 2.06-.94-2.06-.94L8.5 2.5l-.94 2.06-2.06.94zm10 10l.94 2.06.94-2.06 2.06-.94-2.06-.94-.94-2.06-.94 2.06-2.06.94z\"/><path d=\"M17.41 7.96l-1.37-1.37c-.4-.4-.92-.59-1.43-.59-.52 0-1.04.2-1.43.59L10.3 9.45l-7.72 7.72c-.78.78-.78 2.05 0 2.83L4 21.41c.39.39.9.59 1.41.59.51 0 1.02-.2 1.41-.59l7.78-7.78 2.81-2.81c.8-.78.8-2.07 0-2.86zM5.41 20L4 18.59l7.72-7.72 1.47 1.35L5.41 20z\"/>\n",
              "  </svg>\n",
              "      </button>\n",
              "      \n",
              "  <style>\n",
              "    .colab-df-container {\n",
              "      display:flex;\n",
              "      flex-wrap:wrap;\n",
              "      gap: 12px;\n",
              "    }\n",
              "\n",
              "    .colab-df-convert {\n",
              "      background-color: #E8F0FE;\n",
              "      border: none;\n",
              "      border-radius: 50%;\n",
              "      cursor: pointer;\n",
              "      display: none;\n",
              "      fill: #1967D2;\n",
              "      height: 32px;\n",
              "      padding: 0 0 0 0;\n",
              "      width: 32px;\n",
              "    }\n",
              "\n",
              "    .colab-df-convert:hover {\n",
              "      background-color: #E2EBFA;\n",
              "      box-shadow: 0px 1px 2px rgba(60, 64, 67, 0.3), 0px 1px 3px 1px rgba(60, 64, 67, 0.15);\n",
              "      fill: #174EA6;\n",
              "    }\n",
              "\n",
              "    [theme=dark] .colab-df-convert {\n",
              "      background-color: #3B4455;\n",
              "      fill: #D2E3FC;\n",
              "    }\n",
              "\n",
              "    [theme=dark] .colab-df-convert:hover {\n",
              "      background-color: #434B5C;\n",
              "      box-shadow: 0px 1px 3px 1px rgba(0, 0, 0, 0.15);\n",
              "      filter: drop-shadow(0px 1px 2px rgba(0, 0, 0, 0.3));\n",
              "      fill: #FFFFFF;\n",
              "    }\n",
              "  </style>\n",
              "\n",
              "      <script>\n",
              "        const buttonEl =\n",
              "          document.querySelector('#df-2fc1d283-c752-41bb-a84f-752adb55e765 button.colab-df-convert');\n",
              "        buttonEl.style.display =\n",
              "          google.colab.kernel.accessAllowed ? 'block' : 'none';\n",
              "\n",
              "        async function convertToInteractive(key) {\n",
              "          const element = document.querySelector('#df-2fc1d283-c752-41bb-a84f-752adb55e765');\n",
              "          const dataTable =\n",
              "            await google.colab.kernel.invokeFunction('convertToInteractive',\n",
              "                                                     [key], {});\n",
              "          if (!dataTable) return;\n",
              "\n",
              "          const docLinkHtml = 'Like what you see? Visit the ' +\n",
              "            '<a target=\"_blank\" href=https://colab.research.google.com/notebooks/data_table.ipynb>data table notebook</a>'\n",
              "            + ' to learn more about interactive tables.';\n",
              "          element.innerHTML = '';\n",
              "          dataTable['output_type'] = 'display_data';\n",
              "          await google.colab.output.renderOutput(dataTable, element);\n",
              "          const docLink = document.createElement('div');\n",
              "          docLink.innerHTML = docLinkHtml;\n",
              "          element.appendChild(docLink);\n",
              "        }\n",
              "      </script>\n",
              "    </div>\n",
              "  </div>\n",
              "  "
            ]
          },
          "metadata": {},
          "execution_count": 85
        }
      ]
    },
    {
      "cell_type": "code",
      "source": [
        "# isolate confounders, treat, y\n",
        "treat = df.catholic.values\n",
        "y = df.score_standardized.values\n",
        "confounders = df.drop(columns=[\"catholic\",\"score_standardized\"]).values"
      ],
      "metadata": {
        "id": "HCmZS5Pu8YKa"
      },
      "execution_count": 87,
      "outputs": []
    },
    {
      "cell_type": "markdown",
      "source": [
        "### Common Support Region"
      ],
      "metadata": {
        "id": "zdnbDbnkAjgW"
      }
    },
    {
      "cell_type": "code",
      "source": [
        "#Logistic Regression\n",
        "import statsmodels.api as sm\n",
        "confounders_csr = sm.add_constant(confounders)\n",
        "csr_model = sm.Logit(treat, confounders_csr).fit()"
      ],
      "metadata": {
        "colab": {
          "base_uri": "https://localhost:8080/"
        },
        "id": "6HUVQ7kb8e3q",
        "outputId": "02f0841c-95dd-47fc-d842-e4f59b182216"
      },
      "execution_count": 92,
      "outputs": [
        {
          "output_type": "stream",
          "name": "stdout",
          "text": [
            "Optimization terminated successfully.\n",
            "         Current function value: 0.430983\n",
            "         Iterations 8\n"
          ]
        }
      ]
    },
    {
      "cell_type": "code",
      "source": [
        "#Predictions\n",
        "probabilities = csr_model.predict(confounders_csr)\n",
        "probabilities"
      ],
      "metadata": {
        "colab": {
          "base_uri": "https://localhost:8080/"
        },
        "id": "gtNGcSbU9CIe",
        "outputId": "334ecdc8-cbe1-4037-ea34-e5f50da88bc1"
      },
      "execution_count": 94,
      "outputs": [
        {
          "output_type": "execute_result",
          "data": {
            "text/plain": [
              "array([0.26041384, 0.17273291, 0.24596599, ..., 0.23182116, 0.12192314,\n",
              "       0.1825144 ])"
            ]
          },
          "metadata": {},
          "execution_count": 94
        }
      ]
    },
    {
      "cell_type": "code",
      "source": [
        "# plotting the common support region\n",
        "\n",
        "df_prob = np.vstack([treat,probabilities])\n",
        "df_prob = np.transpose(df_prob)\n",
        "\n",
        "non_treated = df_prob[:,0] == 0\n",
        "non_treated = df_prob[non_treated, 1]\n",
        "treated = df_prob[:,0] == 1\n",
        "treated = df_prob[treated, 1]"
      ],
      "metadata": {
        "id": "pSnbadusBcY5"
      },
      "execution_count": 99,
      "outputs": []
    },
    {
      "cell_type": "code",
      "source": [
        "sns.kdeplot(non_treated, fill = True, color = 'red')\n",
        "sns.kdeplot(treated, fill = True, color = 'blue')"
      ],
      "metadata": {
        "colab": {
          "base_uri": "https://localhost:8080/",
          "height": 289
        },
        "id": "sfmDEjThBwDM",
        "outputId": "ee68446d-e471-4e75-ef9c-431014cb35ff"
      },
      "execution_count": 101,
      "outputs": [
        {
          "output_type": "execute_result",
          "data": {
            "text/plain": [
              "<Axes: ylabel='Density'>"
            ]
          },
          "metadata": {},
          "execution_count": 101
        },
        {
          "output_type": "display_data",
          "data": {
            "text/plain": [
              "<Figure size 432x288 with 1 Axes>"
            ],
            "image/png": "[encoded data removed]"
          },
          "metadata": {}
        }
      ]
    },
    {
      "cell_type": "markdown",
      "source": [
        "###Matching Model"
      ],
      "metadata": {
        "id": "UGk7MA3YC1qo"
      }
    },
    {
      "cell_type": "code",
      "source": [
        "model = CausalModel(y, treat, confounders)\n",
        "model.est_via_matching(bias_adj = True)\n",
        "print(model.estimates)"
      ],
      "metadata": {
        "colab": {
          "base_uri": "https://localhost:8080/"
        },
        "id": "C6VbTQrICdyx",
        "outputId": "36745fbb-b6de-47aa-87a4-53f89402c7cd"
      },
      "execution_count": 102,
      "outputs": [
        {
          "output_type": "stream",
          "name": "stdout",
          "text": [
            "\n",
            "Treatment Effect Estimates: Matching\n",
            "\n",
            "                     Est.       S.e.          z      P>|z|      [95% Conf. int.]\n",
            "--------------------------------------------------------------------------------\n",
            "           ATE     -0.133      0.065     -2.044      0.041     -0.260     -0.005\n",
            "           ATC     -0.126      0.073     -1.737      0.082     -0.268      0.016\n",
            "           ATT     -0.167      0.060     -2.786      0.005     -0.284     -0.049\n",
            "\n"
          ]
        },
        {
          "output_type": "stream",
          "name": "stderr",
          "text": [
            "/usr/local/lib/python3.9/dist-packages/causalinference/estimators/matching.py:100: FutureWarning: `rcond` parameter will change to the default of machine precision times ``max(M, N)`` where M and N are the input matrix dimensions.\n",
            "To use the future default and silence this warning we advise to pass `rcond=None`, to keep using the old, explicitly pass `rcond=-1`.\n",
            "  return np.linalg.lstsq(X, Y)[0][1:]  # don't need intercept coef\n"
          ]
        }
      ]
    },
    {
      "cell_type": "code",
      "source": [
        "# ATE : Average Treatement Effect = potential effect\n",
        "# ATC : ATE on the Control Group\n",
        "# ATT : ATE on the treated = de facto effect"
      ],
      "metadata": {
        "id": "O5aR_k-wDXet"
      },
      "execution_count": 103,
      "outputs": []
    },
    {
      "cell_type": "code",
      "source": [
        "# In our case we are looking for ATE : potential effect of being catholic"
      ],
      "metadata": {
        "id": "RqKrjTrdEAQq"
      },
      "execution_count": 104,
      "outputs": []
    },
    {
      "cell_type": "code",
      "source": [
        "# P>|z| 0.041 < 0.05 => statistically significant\n",
        "# Est. -0.133 (95% CI [-0.260 - -0.005]) => catholic perform worse"
      ],
      "metadata": {
        "id": "r8EuQ23nEMfD"
      },
      "execution_count": 105,
      "outputs": []
    },
    {
      "cell_type": "markdown",
      "source": [
        "### Robustness checks\n",
        "\n",
        "* Repeat experiment with different subsamples\n",
        "* Remove one confounder"
      ],
      "metadata": {
        "id": "zppBi3OTE0H1"
      }
    },
    {
      "cell_type": "code",
      "source": [
        "# repeated samples"
      ],
      "metadata": {
        "id": "tWv99T4vEwPn"
      },
      "execution_count": 106,
      "outputs": []
    },
    {
      "cell_type": "code",
      "source": [
        "# isolate the coefficient\n",
        "model.estimates['matching']['ate']\n"
      ],
      "metadata": {
        "colab": {
          "base_uri": "https://localhost:8080/"
        },
        "id": "RLzwmWBOFSvq",
        "outputId": "cb394d0e-839b-41c7-dd34-03738b20d9dc"
      },
      "execution_count": 107,
      "outputs": [
        {
          "output_type": "execute_result",
          "data": {
            "text/plain": [
              "-0.13297192873362434"
            ]
          },
          "metadata": {},
          "execution_count": 107
        }
      ]
    },
    {
      "cell_type": "code",
      "source": [
        "ate = {}\n",
        "i = 0\n",
        "\n",
        "while i < 1000:\n",
        "  # sampling\n",
        "  sample = df.sample(1000) # we have 5429\n",
        "\n",
        "  # isolation of treat, y and confounders\n",
        "  treat = sample.catholic.values\n",
        "  y = sample.score_standardized.values\n",
        "  confounders = sample.drop(columns=[\"catholic\",\"score_standardized\"]).values\n",
        "\n",
        "  # matching model\n",
        "  model = CausalModel(y, treat, confounders)\n",
        "  model.est_via_matching(bias_adj = True)\n",
        "\n",
        "  # store the result\n",
        "  ate[i] = model.estimates['matching']['ate']\n",
        "\n",
        "  print(i)\n",
        "  i += 1\n",
        "\n"
      ],
      "metadata": {
        "id": "V1oC4y48Fgu7"
      },
      "execution_count": null,
      "outputs": []
    },
    {
      "cell_type": "code",
      "source": [
        "ate = pd.Series(ate)\n",
        "print(ate.hist())\n",
        "print(ate.mean())"
      ],
      "metadata": {
        "colab": {
          "base_uri": "https://localhost:8080/",
          "height": 310
        },
        "id": "PJ-73ghAGjna",
        "outputId": "d67f6942-52ae-4f19-afd4-cd7408a87e5e"
      },
      "execution_count": 109,
      "outputs": [
        {
          "output_type": "stream",
          "name": "stdout",
          "text": [
            "Axes(0.125,0.125;0.775x0.755)\n",
            "-0.1290178785481435\n"
          ]
        },
        {
          "output_type": "display_data",
          "data": {
            "text/plain": [
              "<Figure size 432x288 with 1 Axes>"
            ],
            "image/png": "[encoded data removed]"
          },
          "metadata": {}
        }
      ]
    },
    {
      "cell_type": "code",
      "source": [
        "# removing one confounder should not change the result significantly\n",
        "\n",
        "treat = df.catholic.values\n",
        "y = df.score_standardized.values\n",
        "confounders = df.drop(columns=[\"catholic\",\"score_standardized\", \"number_places_lived\"]).values\n",
        "\n",
        "model = CausalModel(y, treat, confounders)\n",
        "model.est_via_matching(bias_adj = True)\n",
        "print(model.estimates)"
      ],
      "metadata": {
        "colab": {
          "base_uri": "https://localhost:8080/"
        },
        "id": "lqX8nQkCG9p0",
        "outputId": "3bce590b-2172-484d-b5b0-21dc8abf9812"
      },
      "execution_count": 110,
      "outputs": [
        {
          "output_type": "stream",
          "name": "stderr",
          "text": [
            "/usr/local/lib/python3.9/dist-packages/causalinference/estimators/matching.py:100: FutureWarning: `rcond` parameter will change to the default of machine precision times ``max(M, N)`` where M and N are the input matrix dimensions.\n",
            "To use the future default and silence this warning we advise to pass `rcond=None`, to keep using the old, explicitly pass `rcond=-1`.\n",
            "  return np.linalg.lstsq(X, Y)[0][1:]  # don't need intercept coef\n"
          ]
        },
        {
          "output_type": "stream",
          "name": "stdout",
          "text": [
            "\n",
            "Treatment Effect Estimates: Matching\n",
            "\n",
            "                     Est.       S.e.          z      P>|z|      [95% Conf. int.]\n",
            "--------------------------------------------------------------------------------\n",
            "           ATE     -0.137      0.066     -2.069      0.039     -0.266     -0.007\n",
            "           ATC     -0.136      0.074     -1.842      0.065     -0.281      0.009\n",
            "           ATT     -0.141      0.060     -2.348      0.019     -0.259     -0.023\n",
            "\n"
          ]
        }
      ]
    },
    {
      "cell_type": "code",
      "source": [],
      "metadata": {
        "id": "Vvu7Y-njH0vJ"
      },
      "execution_count": null,
      "outputs": []
    }
  ]
}